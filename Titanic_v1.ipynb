jupyter nbconvert --to html NOTEBOOK-NAME.ipynb

{
 "cells": [
  {
   "cell_type": "code",
   "execution_count": 1,
   "metadata": {},
   "outputs": [],
   "source": [
    "# Notice: have not done:\n",
    "    #scaling\n",
    "    #examine the cov between features\n",
    "    "
   ]
  },
  {
   "cell_type": "code",
   "execution_count": 2,
   "metadata": {},
   "outputs": [],
   "source": [
    "import numpy as np\n",
    "import pandas as pd\n",
    "import matplotlib.pyplot as plt\n",
    "from matplotlib.pylab import style  \n",
    "import seaborn as sns\n",
    "from sklearn.linear_model import LinearRegression\n",
    "from sklearn.linear_model import LogisticRegression\n",
    "from sklearn.model_selection import cross_validate\n",
    "from sklearn.model_selection import KFold\n",
    "from sklearn.model_selection import train_test_split\n",
    "from sklearn.model_selection import cross_val_score\n",
    "from sklearn.metrics import accuracy_score\n",
    "from sklearn.feature_selection import SelectKBest, f_classif, chi2\n",
    "from sklearn.ensemble import GradientBoostingClassifier\n",
    "from sklearn.ensemble import RandomForestClassifier\n",
    "from operator import itemgetter\n",
    "import re\n",
    "style.use('seaborn')      \n",
    "plt.rcParams['font.sans-serif'] = ['SimHei']   \n",
    "plt.rcParams['axes.unicode_minus'] = False  "
   ]
  },
  {
   "cell_type": "code",
   "execution_count": 3,
   "metadata": {},
   "outputs": [
    {
     "data": {
      "text/html": [
       "<style  type=\"text/css\" >\n",
       "</style>  \n",
       "<table id=\"T_cd5d1066_e8bc_11e8_81c7_501ac5ed90b4\" > \n",
       "<thead>    <tr> \n",
       "        <th class=\"blank level0\" ></th> \n",
       "        <th class=\"col_heading level0 col0\" >PassengerId</th> \n",
       "        <th class=\"col_heading level0 col1\" >Survived</th> \n",
       "        <th class=\"col_heading level0 col2\" >Pclass</th> \n",
       "        <th class=\"col_heading level0 col3\" >Name</th> \n",
       "        <th class=\"col_heading level0 col4\" >Sex</th> \n",
       "        <th class=\"col_heading level0 col5\" >Age</th> \n",
       "        <th class=\"col_heading level0 col6\" >SibSp</th> \n",
       "        <th class=\"col_heading level0 col7\" >Parch</th> \n",
       "        <th class=\"col_heading level0 col8\" >Ticket</th> \n",
       "        <th class=\"col_heading level0 col9\" >Fare</th> \n",
       "        <th class=\"col_heading level0 col10\" >Cabin</th> \n",
       "        <th class=\"col_heading level0 col11\" >Embarked</th> \n",
       "    </tr></thead> \n",
       "<tbody>    <tr> \n",
       "        <th id=\"T_cd5d1066_e8bc_11e8_81c7_501ac5ed90b4level0_row0\" class=\"row_heading level0 row0\" >0</th> \n",
       "        <td id=\"T_cd5d1066_e8bc_11e8_81c7_501ac5ed90b4row0_col0\" class=\"data row0 col0\" >1</td> \n",
       "        <td id=\"T_cd5d1066_e8bc_11e8_81c7_501ac5ed90b4row0_col1\" class=\"data row0 col1\" >0</td> \n",
       "        <td id=\"T_cd5d1066_e8bc_11e8_81c7_501ac5ed90b4row0_col2\" class=\"data row0 col2\" >3</td> \n",
       "        <td id=\"T_cd5d1066_e8bc_11e8_81c7_501ac5ed90b4row0_col3\" class=\"data row0 col3\" >Braund, Mr. Owen Harris</td> \n",
       "        <td id=\"T_cd5d1066_e8bc_11e8_81c7_501ac5ed90b4row0_col4\" class=\"data row0 col4\" >male</td> \n",
       "        <td id=\"T_cd5d1066_e8bc_11e8_81c7_501ac5ed90b4row0_col5\" class=\"data row0 col5\" >22</td> \n",
       "        <td id=\"T_cd5d1066_e8bc_11e8_81c7_501ac5ed90b4row0_col6\" class=\"data row0 col6\" >1</td> \n",
       "        <td id=\"T_cd5d1066_e8bc_11e8_81c7_501ac5ed90b4row0_col7\" class=\"data row0 col7\" >0</td> \n",
       "        <td id=\"T_cd5d1066_e8bc_11e8_81c7_501ac5ed90b4row0_col8\" class=\"data row0 col8\" >A/5 21171</td> \n",
       "        <td id=\"T_cd5d1066_e8bc_11e8_81c7_501ac5ed90b4row0_col9\" class=\"data row0 col9\" >7.25</td> \n",
       "        <td id=\"T_cd5d1066_e8bc_11e8_81c7_501ac5ed90b4row0_col10\" class=\"data row0 col10\" >nan</td> \n",
       "        <td id=\"T_cd5d1066_e8bc_11e8_81c7_501ac5ed90b4row0_col11\" class=\"data row0 col11\" >S</td> \n",
       "    </tr>    <tr> \n",
       "        <th id=\"T_cd5d1066_e8bc_11e8_81c7_501ac5ed90b4level0_row1\" class=\"row_heading level0 row1\" >1</th> \n",
       "        <td id=\"T_cd5d1066_e8bc_11e8_81c7_501ac5ed90b4row1_col0\" class=\"data row1 col0\" >2</td> \n",
       "        <td id=\"T_cd5d1066_e8bc_11e8_81c7_501ac5ed90b4row1_col1\" class=\"data row1 col1\" >1</td> \n",
       "        <td id=\"T_cd5d1066_e8bc_11e8_81c7_501ac5ed90b4row1_col2\" class=\"data row1 col2\" >1</td> \n",
       "        <td id=\"T_cd5d1066_e8bc_11e8_81c7_501ac5ed90b4row1_col3\" class=\"data row1 col3\" >Cumings, Mrs. John Bradley (Florence Briggs Thayer)</td> \n",
       "        <td id=\"T_cd5d1066_e8bc_11e8_81c7_501ac5ed90b4row1_col4\" class=\"data row1 col4\" >female</td> \n",
       "        <td id=\"T_cd5d1066_e8bc_11e8_81c7_501ac5ed90b4row1_col5\" class=\"data row1 col5\" >38</td> \n",
       "        <td id=\"T_cd5d1066_e8bc_11e8_81c7_501ac5ed90b4row1_col6\" class=\"data row1 col6\" >1</td> \n",
       "        <td id=\"T_cd5d1066_e8bc_11e8_81c7_501ac5ed90b4row1_col7\" class=\"data row1 col7\" >0</td> \n",
       "        <td id=\"T_cd5d1066_e8bc_11e8_81c7_501ac5ed90b4row1_col8\" class=\"data row1 col8\" >PC 17599</td> \n",
       "        <td id=\"T_cd5d1066_e8bc_11e8_81c7_501ac5ed90b4row1_col9\" class=\"data row1 col9\" >71.2833</td> \n",
       "        <td id=\"T_cd5d1066_e8bc_11e8_81c7_501ac5ed90b4row1_col10\" class=\"data row1 col10\" >C85</td> \n",
       "        <td id=\"T_cd5d1066_e8bc_11e8_81c7_501ac5ed90b4row1_col11\" class=\"data row1 col11\" >C</td> \n",
       "    </tr>    <tr> \n",
       "        <th id=\"T_cd5d1066_e8bc_11e8_81c7_501ac5ed90b4level0_row2\" class=\"row_heading level0 row2\" >2</th> \n",
       "        <td id=\"T_cd5d1066_e8bc_11e8_81c7_501ac5ed90b4row2_col0\" class=\"data row2 col0\" >3</td> \n",
       "        <td id=\"T_cd5d1066_e8bc_11e8_81c7_501ac5ed90b4row2_col1\" class=\"data row2 col1\" >1</td> \n",
       "        <td id=\"T_cd5d1066_e8bc_11e8_81c7_501ac5ed90b4row2_col2\" class=\"data row2 col2\" >3</td> \n",
       "        <td id=\"T_cd5d1066_e8bc_11e8_81c7_501ac5ed90b4row2_col3\" class=\"data row2 col3\" >Heikkinen, Miss. Laina</td> \n",
       "        <td id=\"T_cd5d1066_e8bc_11e8_81c7_501ac5ed90b4row2_col4\" class=\"data row2 col4\" >female</td> \n",
       "        <td id=\"T_cd5d1066_e8bc_11e8_81c7_501ac5ed90b4row2_col5\" class=\"data row2 col5\" >26</td> \n",
       "        <td id=\"T_cd5d1066_e8bc_11e8_81c7_501ac5ed90b4row2_col6\" class=\"data row2 col6\" >0</td> \n",
       "        <td id=\"T_cd5d1066_e8bc_11e8_81c7_501ac5ed90b4row2_col7\" class=\"data row2 col7\" >0</td> \n",
       "        <td id=\"T_cd5d1066_e8bc_11e8_81c7_501ac5ed90b4row2_col8\" class=\"data row2 col8\" >STON/O2. 3101282</td> \n",
       "        <td id=\"T_cd5d1066_e8bc_11e8_81c7_501ac5ed90b4row2_col9\" class=\"data row2 col9\" >7.925</td> \n",
       "        <td id=\"T_cd5d1066_e8bc_11e8_81c7_501ac5ed90b4row2_col10\" class=\"data row2 col10\" >nan</td> \n",
       "        <td id=\"T_cd5d1066_e8bc_11e8_81c7_501ac5ed90b4row2_col11\" class=\"data row2 col11\" >S</td> \n",
       "    </tr>    <tr> \n",
       "        <th id=\"T_cd5d1066_e8bc_11e8_81c7_501ac5ed90b4level0_row3\" class=\"row_heading level0 row3\" >3</th> \n",
       "        <td id=\"T_cd5d1066_e8bc_11e8_81c7_501ac5ed90b4row3_col0\" class=\"data row3 col0\" >4</td> \n",
       "        <td id=\"T_cd5d1066_e8bc_11e8_81c7_501ac5ed90b4row3_col1\" class=\"data row3 col1\" >1</td> \n",
       "        <td id=\"T_cd5d1066_e8bc_11e8_81c7_501ac5ed90b4row3_col2\" class=\"data row3 col2\" >1</td> \n",
       "        <td id=\"T_cd5d1066_e8bc_11e8_81c7_501ac5ed90b4row3_col3\" class=\"data row3 col3\" >Futrelle, Mrs. Jacques Heath (Lily May Peel)</td> \n",
       "        <td id=\"T_cd5d1066_e8bc_11e8_81c7_501ac5ed90b4row3_col4\" class=\"data row3 col4\" >female</td> \n",
       "        <td id=\"T_cd5d1066_e8bc_11e8_81c7_501ac5ed90b4row3_col5\" class=\"data row3 col5\" >35</td> \n",
       "        <td id=\"T_cd5d1066_e8bc_11e8_81c7_501ac5ed90b4row3_col6\" class=\"data row3 col6\" >1</td> \n",
       "        <td id=\"T_cd5d1066_e8bc_11e8_81c7_501ac5ed90b4row3_col7\" class=\"data row3 col7\" >0</td> \n",
       "        <td id=\"T_cd5d1066_e8bc_11e8_81c7_501ac5ed90b4row3_col8\" class=\"data row3 col8\" >113803</td> \n",
       "        <td id=\"T_cd5d1066_e8bc_11e8_81c7_501ac5ed90b4row3_col9\" class=\"data row3 col9\" >53.1</td> \n",
       "        <td id=\"T_cd5d1066_e8bc_11e8_81c7_501ac5ed90b4row3_col10\" class=\"data row3 col10\" >C123</td> \n",
       "        <td id=\"T_cd5d1066_e8bc_11e8_81c7_501ac5ed90b4row3_col11\" class=\"data row3 col11\" >S</td> \n",
       "    </tr>    <tr> \n",
       "        <th id=\"T_cd5d1066_e8bc_11e8_81c7_501ac5ed90b4level0_row4\" class=\"row_heading level0 row4\" >4</th> \n",
       "        <td id=\"T_cd5d1066_e8bc_11e8_81c7_501ac5ed90b4row4_col0\" class=\"data row4 col0\" >5</td> \n",
       "        <td id=\"T_cd5d1066_e8bc_11e8_81c7_501ac5ed90b4row4_col1\" class=\"data row4 col1\" >0</td> \n",
       "        <td id=\"T_cd5d1066_e8bc_11e8_81c7_501ac5ed90b4row4_col2\" class=\"data row4 col2\" >3</td> \n",
       "        <td id=\"T_cd5d1066_e8bc_11e8_81c7_501ac5ed90b4row4_col3\" class=\"data row4 col3\" >Allen, Mr. William Henry</td> \n",
       "        <td id=\"T_cd5d1066_e8bc_11e8_81c7_501ac5ed90b4row4_col4\" class=\"data row4 col4\" >male</td> \n",
       "        <td id=\"T_cd5d1066_e8bc_11e8_81c7_501ac5ed90b4row4_col5\" class=\"data row4 col5\" >35</td> \n",
       "        <td id=\"T_cd5d1066_e8bc_11e8_81c7_501ac5ed90b4row4_col6\" class=\"data row4 col6\" >0</td> \n",
       "        <td id=\"T_cd5d1066_e8bc_11e8_81c7_501ac5ed90b4row4_col7\" class=\"data row4 col7\" >0</td> \n",
       "        <td id=\"T_cd5d1066_e8bc_11e8_81c7_501ac5ed90b4row4_col8\" class=\"data row4 col8\" >373450</td> \n",
       "        <td id=\"T_cd5d1066_e8bc_11e8_81c7_501ac5ed90b4row4_col9\" class=\"data row4 col9\" >8.05</td> \n",
       "        <td id=\"T_cd5d1066_e8bc_11e8_81c7_501ac5ed90b4row4_col10\" class=\"data row4 col10\" >nan</td> \n",
       "        <td id=\"T_cd5d1066_e8bc_11e8_81c7_501ac5ed90b4row4_col11\" class=\"data row4 col11\" >S</td> \n",
       "    </tr></tbody> \n",
       "</table> "
      ],
      "text/plain": [
       "<pandas.io.formats.style.Styler at 0x26115c4ffd0>"
      ]
     },
     "execution_count": 3,
     "metadata": {},
     "output_type": "execute_result"
    }
   ],
   "source": [
    "# Load dataset and view the table\n",
    "titanic = pd.read_csv(\"titanic_train.csv\")\n",
    "titanic.head(5).style"
   ]
  },
  {
   "cell_type": "code",
   "execution_count": 4,
   "metadata": {},
   "outputs": [
    {
     "data": {
      "text/html": [
       "<style  type=\"text/css\" >\n",
       "</style>  \n",
       "<table id=\"T_cd657394_e8bc_11e8_8296_501ac5ed90b4\" > \n",
       "<thead>    <tr> \n",
       "        <th class=\"blank level0\" ></th> \n",
       "        <th class=\"col_heading level0 col0\" >PassengerId</th> \n",
       "        <th class=\"col_heading level0 col1\" >Survived</th> \n",
       "        <th class=\"col_heading level0 col2\" >Pclass</th> \n",
       "        <th class=\"col_heading level0 col3\" >Age</th> \n",
       "        <th class=\"col_heading level0 col4\" >SibSp</th> \n",
       "        <th class=\"col_heading level0 col5\" >Parch</th> \n",
       "        <th class=\"col_heading level0 col6\" >Fare</th> \n",
       "    </tr></thead> \n",
       "<tbody>    <tr> \n",
       "        <th id=\"T_cd657394_e8bc_11e8_8296_501ac5ed90b4level0_row0\" class=\"row_heading level0 row0\" >count</th> \n",
       "        <td id=\"T_cd657394_e8bc_11e8_8296_501ac5ed90b4row0_col0\" class=\"data row0 col0\" >891</td> \n",
       "        <td id=\"T_cd657394_e8bc_11e8_8296_501ac5ed90b4row0_col1\" class=\"data row0 col1\" >891</td> \n",
       "        <td id=\"T_cd657394_e8bc_11e8_8296_501ac5ed90b4row0_col2\" class=\"data row0 col2\" >891</td> \n",
       "        <td id=\"T_cd657394_e8bc_11e8_8296_501ac5ed90b4row0_col3\" class=\"data row0 col3\" >714</td> \n",
       "        <td id=\"T_cd657394_e8bc_11e8_8296_501ac5ed90b4row0_col4\" class=\"data row0 col4\" >891</td> \n",
       "        <td id=\"T_cd657394_e8bc_11e8_8296_501ac5ed90b4row0_col5\" class=\"data row0 col5\" >891</td> \n",
       "        <td id=\"T_cd657394_e8bc_11e8_8296_501ac5ed90b4row0_col6\" class=\"data row0 col6\" >891</td> \n",
       "    </tr>    <tr> \n",
       "        <th id=\"T_cd657394_e8bc_11e8_8296_501ac5ed90b4level0_row1\" class=\"row_heading level0 row1\" >mean</th> \n",
       "        <td id=\"T_cd657394_e8bc_11e8_8296_501ac5ed90b4row1_col0\" class=\"data row1 col0\" >446</td> \n",
       "        <td id=\"T_cd657394_e8bc_11e8_8296_501ac5ed90b4row1_col1\" class=\"data row1 col1\" >0.383838</td> \n",
       "        <td id=\"T_cd657394_e8bc_11e8_8296_501ac5ed90b4row1_col2\" class=\"data row1 col2\" >2.30864</td> \n",
       "        <td id=\"T_cd657394_e8bc_11e8_8296_501ac5ed90b4row1_col3\" class=\"data row1 col3\" >29.6991</td> \n",
       "        <td id=\"T_cd657394_e8bc_11e8_8296_501ac5ed90b4row1_col4\" class=\"data row1 col4\" >0.523008</td> \n",
       "        <td id=\"T_cd657394_e8bc_11e8_8296_501ac5ed90b4row1_col5\" class=\"data row1 col5\" >0.381594</td> \n",
       "        <td id=\"T_cd657394_e8bc_11e8_8296_501ac5ed90b4row1_col6\" class=\"data row1 col6\" >32.2042</td> \n",
       "    </tr>    <tr> \n",
       "        <th id=\"T_cd657394_e8bc_11e8_8296_501ac5ed90b4level0_row2\" class=\"row_heading level0 row2\" >std</th> \n",
       "        <td id=\"T_cd657394_e8bc_11e8_8296_501ac5ed90b4row2_col0\" class=\"data row2 col0\" >257.354</td> \n",
       "        <td id=\"T_cd657394_e8bc_11e8_8296_501ac5ed90b4row2_col1\" class=\"data row2 col1\" >0.486592</td> \n",
       "        <td id=\"T_cd657394_e8bc_11e8_8296_501ac5ed90b4row2_col2\" class=\"data row2 col2\" >0.836071</td> \n",
       "        <td id=\"T_cd657394_e8bc_11e8_8296_501ac5ed90b4row2_col3\" class=\"data row2 col3\" >14.5265</td> \n",
       "        <td id=\"T_cd657394_e8bc_11e8_8296_501ac5ed90b4row2_col4\" class=\"data row2 col4\" >1.10274</td> \n",
       "        <td id=\"T_cd657394_e8bc_11e8_8296_501ac5ed90b4row2_col5\" class=\"data row2 col5\" >0.806057</td> \n",
       "        <td id=\"T_cd657394_e8bc_11e8_8296_501ac5ed90b4row2_col6\" class=\"data row2 col6\" >49.6934</td> \n",
       "    </tr>    <tr> \n",
       "        <th id=\"T_cd657394_e8bc_11e8_8296_501ac5ed90b4level0_row3\" class=\"row_heading level0 row3\" >min</th> \n",
       "        <td id=\"T_cd657394_e8bc_11e8_8296_501ac5ed90b4row3_col0\" class=\"data row3 col0\" >1</td> \n",
       "        <td id=\"T_cd657394_e8bc_11e8_8296_501ac5ed90b4row3_col1\" class=\"data row3 col1\" >0</td> \n",
       "        <td id=\"T_cd657394_e8bc_11e8_8296_501ac5ed90b4row3_col2\" class=\"data row3 col2\" >1</td> \n",
       "        <td id=\"T_cd657394_e8bc_11e8_8296_501ac5ed90b4row3_col3\" class=\"data row3 col3\" >0.42</td> \n",
       "        <td id=\"T_cd657394_e8bc_11e8_8296_501ac5ed90b4row3_col4\" class=\"data row3 col4\" >0</td> \n",
       "        <td id=\"T_cd657394_e8bc_11e8_8296_501ac5ed90b4row3_col5\" class=\"data row3 col5\" >0</td> \n",
       "        <td id=\"T_cd657394_e8bc_11e8_8296_501ac5ed90b4row3_col6\" class=\"data row3 col6\" >0</td> \n",
       "    </tr>    <tr> \n",
       "        <th id=\"T_cd657394_e8bc_11e8_8296_501ac5ed90b4level0_row4\" class=\"row_heading level0 row4\" >25%</th> \n",
       "        <td id=\"T_cd657394_e8bc_11e8_8296_501ac5ed90b4row4_col0\" class=\"data row4 col0\" >223.5</td> \n",
       "        <td id=\"T_cd657394_e8bc_11e8_8296_501ac5ed90b4row4_col1\" class=\"data row4 col1\" >0</td> \n",
       "        <td id=\"T_cd657394_e8bc_11e8_8296_501ac5ed90b4row4_col2\" class=\"data row4 col2\" >2</td> \n",
       "        <td id=\"T_cd657394_e8bc_11e8_8296_501ac5ed90b4row4_col3\" class=\"data row4 col3\" >20.125</td> \n",
       "        <td id=\"T_cd657394_e8bc_11e8_8296_501ac5ed90b4row4_col4\" class=\"data row4 col4\" >0</td> \n",
       "        <td id=\"T_cd657394_e8bc_11e8_8296_501ac5ed90b4row4_col5\" class=\"data row4 col5\" >0</td> \n",
       "        <td id=\"T_cd657394_e8bc_11e8_8296_501ac5ed90b4row4_col6\" class=\"data row4 col6\" >7.9104</td> \n",
       "    </tr>    <tr> \n",
       "        <th id=\"T_cd657394_e8bc_11e8_8296_501ac5ed90b4level0_row5\" class=\"row_heading level0 row5\" >50%</th> \n",
       "        <td id=\"T_cd657394_e8bc_11e8_8296_501ac5ed90b4row5_col0\" class=\"data row5 col0\" >446</td> \n",
       "        <td id=\"T_cd657394_e8bc_11e8_8296_501ac5ed90b4row5_col1\" class=\"data row5 col1\" >0</td> \n",
       "        <td id=\"T_cd657394_e8bc_11e8_8296_501ac5ed90b4row5_col2\" class=\"data row5 col2\" >3</td> \n",
       "        <td id=\"T_cd657394_e8bc_11e8_8296_501ac5ed90b4row5_col3\" class=\"data row5 col3\" >28</td> \n",
       "        <td id=\"T_cd657394_e8bc_11e8_8296_501ac5ed90b4row5_col4\" class=\"data row5 col4\" >0</td> \n",
       "        <td id=\"T_cd657394_e8bc_11e8_8296_501ac5ed90b4row5_col5\" class=\"data row5 col5\" >0</td> \n",
       "        <td id=\"T_cd657394_e8bc_11e8_8296_501ac5ed90b4row5_col6\" class=\"data row5 col6\" >14.4542</td> \n",
       "    </tr>    <tr> \n",
       "        <th id=\"T_cd657394_e8bc_11e8_8296_501ac5ed90b4level0_row6\" class=\"row_heading level0 row6\" >75%</th> \n",
       "        <td id=\"T_cd657394_e8bc_11e8_8296_501ac5ed90b4row6_col0\" class=\"data row6 col0\" >668.5</td> \n",
       "        <td id=\"T_cd657394_e8bc_11e8_8296_501ac5ed90b4row6_col1\" class=\"data row6 col1\" >1</td> \n",
       "        <td id=\"T_cd657394_e8bc_11e8_8296_501ac5ed90b4row6_col2\" class=\"data row6 col2\" >3</td> \n",
       "        <td id=\"T_cd657394_e8bc_11e8_8296_501ac5ed90b4row6_col3\" class=\"data row6 col3\" >38</td> \n",
       "        <td id=\"T_cd657394_e8bc_11e8_8296_501ac5ed90b4row6_col4\" class=\"data row6 col4\" >1</td> \n",
       "        <td id=\"T_cd657394_e8bc_11e8_8296_501ac5ed90b4row6_col5\" class=\"data row6 col5\" >0</td> \n",
       "        <td id=\"T_cd657394_e8bc_11e8_8296_501ac5ed90b4row6_col6\" class=\"data row6 col6\" >31</td> \n",
       "    </tr>    <tr> \n",
       "        <th id=\"T_cd657394_e8bc_11e8_8296_501ac5ed90b4level0_row7\" class=\"row_heading level0 row7\" >max</th> \n",
       "        <td id=\"T_cd657394_e8bc_11e8_8296_501ac5ed90b4row7_col0\" class=\"data row7 col0\" >891</td> \n",
       "        <td id=\"T_cd657394_e8bc_11e8_8296_501ac5ed90b4row7_col1\" class=\"data row7 col1\" >1</td> \n",
       "        <td id=\"T_cd657394_e8bc_11e8_8296_501ac5ed90b4row7_col2\" class=\"data row7 col2\" >3</td> \n",
       "        <td id=\"T_cd657394_e8bc_11e8_8296_501ac5ed90b4row7_col3\" class=\"data row7 col3\" >80</td> \n",
       "        <td id=\"T_cd657394_e8bc_11e8_8296_501ac5ed90b4row7_col4\" class=\"data row7 col4\" >8</td> \n",
       "        <td id=\"T_cd657394_e8bc_11e8_8296_501ac5ed90b4row7_col5\" class=\"data row7 col5\" >6</td> \n",
       "        <td id=\"T_cd657394_e8bc_11e8_8296_501ac5ed90b4row7_col6\" class=\"data row7 col6\" >512.329</td> \n",
       "    </tr></tbody> \n",
       "</table> "
      ],
      "text/plain": [
       "<pandas.io.formats.style.Styler at 0x261125925c0>"
      ]
     },
     "execution_count": 4,
     "metadata": {},
     "output_type": "execute_result"
    }
   ],
   "source": [
    "# Examine the data\n",
    "titanic.describe().style"
   ]
  },
  {
   "cell_type": "code",
   "execution_count": 5,
   "metadata": {},
   "outputs": [
    {
     "data": {
      "text/html": [
       "<style  type=\"text/css\" >\n",
       "</style>  \n",
       "<table id=\"T_cd6f848c_e8bc_11e8_82f1_501ac5ed90b4\" > \n",
       "<thead>    <tr> \n",
       "        <th class=\"blank level0\" ></th> \n",
       "        <th class=\"col_heading level0 col0\" >PassengerId</th> \n",
       "        <th class=\"col_heading level0 col1\" >Survived</th> \n",
       "        <th class=\"col_heading level0 col2\" >Pclass</th> \n",
       "        <th class=\"col_heading level0 col3\" >Age</th> \n",
       "        <th class=\"col_heading level0 col4\" >SibSp</th> \n",
       "        <th class=\"col_heading level0 col5\" >Parch</th> \n",
       "        <th class=\"col_heading level0 col6\" >Fare</th> \n",
       "    </tr></thead> \n",
       "<tbody>    <tr> \n",
       "        <th id=\"T_cd6f848c_e8bc_11e8_82f1_501ac5ed90b4level0_row0\" class=\"row_heading level0 row0\" >count</th> \n",
       "        <td id=\"T_cd6f848c_e8bc_11e8_82f1_501ac5ed90b4row0_col0\" class=\"data row0 col0\" >891</td> \n",
       "        <td id=\"T_cd6f848c_e8bc_11e8_82f1_501ac5ed90b4row0_col1\" class=\"data row0 col1\" >891</td> \n",
       "        <td id=\"T_cd6f848c_e8bc_11e8_82f1_501ac5ed90b4row0_col2\" class=\"data row0 col2\" >891</td> \n",
       "        <td id=\"T_cd6f848c_e8bc_11e8_82f1_501ac5ed90b4row0_col3\" class=\"data row0 col3\" >891</td> \n",
       "        <td id=\"T_cd6f848c_e8bc_11e8_82f1_501ac5ed90b4row0_col4\" class=\"data row0 col4\" >891</td> \n",
       "        <td id=\"T_cd6f848c_e8bc_11e8_82f1_501ac5ed90b4row0_col5\" class=\"data row0 col5\" >891</td> \n",
       "        <td id=\"T_cd6f848c_e8bc_11e8_82f1_501ac5ed90b4row0_col6\" class=\"data row0 col6\" >891</td> \n",
       "    </tr>    <tr> \n",
       "        <th id=\"T_cd6f848c_e8bc_11e8_82f1_501ac5ed90b4level0_row1\" class=\"row_heading level0 row1\" >mean</th> \n",
       "        <td id=\"T_cd6f848c_e8bc_11e8_82f1_501ac5ed90b4row1_col0\" class=\"data row1 col0\" >446</td> \n",
       "        <td id=\"T_cd6f848c_e8bc_11e8_82f1_501ac5ed90b4row1_col1\" class=\"data row1 col1\" >0.383838</td> \n",
       "        <td id=\"T_cd6f848c_e8bc_11e8_82f1_501ac5ed90b4row1_col2\" class=\"data row1 col2\" >2.30864</td> \n",
       "        <td id=\"T_cd6f848c_e8bc_11e8_82f1_501ac5ed90b4row1_col3\" class=\"data row1 col3\" >29.3616</td> \n",
       "        <td id=\"T_cd6f848c_e8bc_11e8_82f1_501ac5ed90b4row1_col4\" class=\"data row1 col4\" >0.523008</td> \n",
       "        <td id=\"T_cd6f848c_e8bc_11e8_82f1_501ac5ed90b4row1_col5\" class=\"data row1 col5\" >0.381594</td> \n",
       "        <td id=\"T_cd6f848c_e8bc_11e8_82f1_501ac5ed90b4row1_col6\" class=\"data row1 col6\" >32.2042</td> \n",
       "    </tr>    <tr> \n",
       "        <th id=\"T_cd6f848c_e8bc_11e8_82f1_501ac5ed90b4level0_row2\" class=\"row_heading level0 row2\" >std</th> \n",
       "        <td id=\"T_cd6f848c_e8bc_11e8_82f1_501ac5ed90b4row2_col0\" class=\"data row2 col0\" >257.354</td> \n",
       "        <td id=\"T_cd6f848c_e8bc_11e8_82f1_501ac5ed90b4row2_col1\" class=\"data row2 col1\" >0.486592</td> \n",
       "        <td id=\"T_cd6f848c_e8bc_11e8_82f1_501ac5ed90b4row2_col2\" class=\"data row2 col2\" >0.836071</td> \n",
       "        <td id=\"T_cd6f848c_e8bc_11e8_82f1_501ac5ed90b4row2_col3\" class=\"data row2 col3\" >13.0197</td> \n",
       "        <td id=\"T_cd6f848c_e8bc_11e8_82f1_501ac5ed90b4row2_col4\" class=\"data row2 col4\" >1.10274</td> \n",
       "        <td id=\"T_cd6f848c_e8bc_11e8_82f1_501ac5ed90b4row2_col5\" class=\"data row2 col5\" >0.806057</td> \n",
       "        <td id=\"T_cd6f848c_e8bc_11e8_82f1_501ac5ed90b4row2_col6\" class=\"data row2 col6\" >49.6934</td> \n",
       "    </tr>    <tr> \n",
       "        <th id=\"T_cd6f848c_e8bc_11e8_82f1_501ac5ed90b4level0_row3\" class=\"row_heading level0 row3\" >min</th> \n",
       "        <td id=\"T_cd6f848c_e8bc_11e8_82f1_501ac5ed90b4row3_col0\" class=\"data row3 col0\" >1</td> \n",
       "        <td id=\"T_cd6f848c_e8bc_11e8_82f1_501ac5ed90b4row3_col1\" class=\"data row3 col1\" >0</td> \n",
       "        <td id=\"T_cd6f848c_e8bc_11e8_82f1_501ac5ed90b4row3_col2\" class=\"data row3 col2\" >1</td> \n",
       "        <td id=\"T_cd6f848c_e8bc_11e8_82f1_501ac5ed90b4row3_col3\" class=\"data row3 col3\" >0.42</td> \n",
       "        <td id=\"T_cd6f848c_e8bc_11e8_82f1_501ac5ed90b4row3_col4\" class=\"data row3 col4\" >0</td> \n",
       "        <td id=\"T_cd6f848c_e8bc_11e8_82f1_501ac5ed90b4row3_col5\" class=\"data row3 col5\" >0</td> \n",
       "        <td id=\"T_cd6f848c_e8bc_11e8_82f1_501ac5ed90b4row3_col6\" class=\"data row3 col6\" >0</td> \n",
       "    </tr>    <tr> \n",
       "        <th id=\"T_cd6f848c_e8bc_11e8_82f1_501ac5ed90b4level0_row4\" class=\"row_heading level0 row4\" >25%</th> \n",
       "        <td id=\"T_cd6f848c_e8bc_11e8_82f1_501ac5ed90b4row4_col0\" class=\"data row4 col0\" >223.5</td> \n",
       "        <td id=\"T_cd6f848c_e8bc_11e8_82f1_501ac5ed90b4row4_col1\" class=\"data row4 col1\" >0</td> \n",
       "        <td id=\"T_cd6f848c_e8bc_11e8_82f1_501ac5ed90b4row4_col2\" class=\"data row4 col2\" >2</td> \n",
       "        <td id=\"T_cd6f848c_e8bc_11e8_82f1_501ac5ed90b4row4_col3\" class=\"data row4 col3\" >22</td> \n",
       "        <td id=\"T_cd6f848c_e8bc_11e8_82f1_501ac5ed90b4row4_col4\" class=\"data row4 col4\" >0</td> \n",
       "        <td id=\"T_cd6f848c_e8bc_11e8_82f1_501ac5ed90b4row4_col5\" class=\"data row4 col5\" >0</td> \n",
       "        <td id=\"T_cd6f848c_e8bc_11e8_82f1_501ac5ed90b4row4_col6\" class=\"data row4 col6\" >7.9104</td> \n",
       "    </tr>    <tr> \n",
       "        <th id=\"T_cd6f848c_e8bc_11e8_82f1_501ac5ed90b4level0_row5\" class=\"row_heading level0 row5\" >50%</th> \n",
       "        <td id=\"T_cd6f848c_e8bc_11e8_82f1_501ac5ed90b4row5_col0\" class=\"data row5 col0\" >446</td> \n",
       "        <td id=\"T_cd6f848c_e8bc_11e8_82f1_501ac5ed90b4row5_col1\" class=\"data row5 col1\" >0</td> \n",
       "        <td id=\"T_cd6f848c_e8bc_11e8_82f1_501ac5ed90b4row5_col2\" class=\"data row5 col2\" >3</td> \n",
       "        <td id=\"T_cd6f848c_e8bc_11e8_82f1_501ac5ed90b4row5_col3\" class=\"data row5 col3\" >28</td> \n",
       "        <td id=\"T_cd6f848c_e8bc_11e8_82f1_501ac5ed90b4row5_col4\" class=\"data row5 col4\" >0</td> \n",
       "        <td id=\"T_cd6f848c_e8bc_11e8_82f1_501ac5ed90b4row5_col5\" class=\"data row5 col5\" >0</td> \n",
       "        <td id=\"T_cd6f848c_e8bc_11e8_82f1_501ac5ed90b4row5_col6\" class=\"data row5 col6\" >14.4542</td> \n",
       "    </tr>    <tr> \n",
       "        <th id=\"T_cd6f848c_e8bc_11e8_82f1_501ac5ed90b4level0_row6\" class=\"row_heading level0 row6\" >75%</th> \n",
       "        <td id=\"T_cd6f848c_e8bc_11e8_82f1_501ac5ed90b4row6_col0\" class=\"data row6 col0\" >668.5</td> \n",
       "        <td id=\"T_cd6f848c_e8bc_11e8_82f1_501ac5ed90b4row6_col1\" class=\"data row6 col1\" >1</td> \n",
       "        <td id=\"T_cd6f848c_e8bc_11e8_82f1_501ac5ed90b4row6_col2\" class=\"data row6 col2\" >3</td> \n",
       "        <td id=\"T_cd6f848c_e8bc_11e8_82f1_501ac5ed90b4row6_col3\" class=\"data row6 col3\" >35</td> \n",
       "        <td id=\"T_cd6f848c_e8bc_11e8_82f1_501ac5ed90b4row6_col4\" class=\"data row6 col4\" >1</td> \n",
       "        <td id=\"T_cd6f848c_e8bc_11e8_82f1_501ac5ed90b4row6_col5\" class=\"data row6 col5\" >0</td> \n",
       "        <td id=\"T_cd6f848c_e8bc_11e8_82f1_501ac5ed90b4row6_col6\" class=\"data row6 col6\" >31</td> \n",
       "    </tr>    <tr> \n",
       "        <th id=\"T_cd6f848c_e8bc_11e8_82f1_501ac5ed90b4level0_row7\" class=\"row_heading level0 row7\" >max</th> \n",
       "        <td id=\"T_cd6f848c_e8bc_11e8_82f1_501ac5ed90b4row7_col0\" class=\"data row7 col0\" >891</td> \n",
       "        <td id=\"T_cd6f848c_e8bc_11e8_82f1_501ac5ed90b4row7_col1\" class=\"data row7 col1\" >1</td> \n",
       "        <td id=\"T_cd6f848c_e8bc_11e8_82f1_501ac5ed90b4row7_col2\" class=\"data row7 col2\" >3</td> \n",
       "        <td id=\"T_cd6f848c_e8bc_11e8_82f1_501ac5ed90b4row7_col3\" class=\"data row7 col3\" >80</td> \n",
       "        <td id=\"T_cd6f848c_e8bc_11e8_82f1_501ac5ed90b4row7_col4\" class=\"data row7 col4\" >8</td> \n",
       "        <td id=\"T_cd6f848c_e8bc_11e8_82f1_501ac5ed90b4row7_col5\" class=\"data row7 col5\" >6</td> \n",
       "        <td id=\"T_cd6f848c_e8bc_11e8_82f1_501ac5ed90b4row7_col6\" class=\"data row7 col6\" >512.329</td> \n",
       "    </tr></tbody> \n",
       "</table> "
      ],
      "text/plain": [
       "<pandas.io.formats.style.Styler at 0x26115ddcc18>"
      ]
     },
     "execution_count": 5,
     "metadata": {},
     "output_type": "execute_result"
    }
   ],
   "source": [
    "# Fill in missing data (blanks for \"Age\")\n",
    "titanic[\"Age\"] = titanic[\"Age\"].fillna(titanic[\"Age\"].median())\n",
    "titanic.describe().style # check"
   ]
  },
  {
   "cell_type": "code",
   "execution_count": 6,
   "metadata": {},
   "outputs": [
    {
     "name": "stdout",
     "output_type": "stream",
     "text": [
      "['male' 'female']\n",
      "[0 1]\n"
     ]
    }
   ],
   "source": [
    "\n",
    "print(titanic[\"Sex\"].unique()) # view\n",
    "\n",
    "titanic.loc[titanic[\"Sex\"] == \"male\", \"Sex\"] = 0\n",
    "titanic.loc[titanic[\"Sex\"] == \"female\", \"Sex\"] = 1\n",
    "\n",
    "print(titanic[\"Sex\"].unique()) # check"
   ]
  },
  {
   "cell_type": "code",
   "execution_count": 7,
   "metadata": {},
   "outputs": [
    {
     "name": "stdout",
     "output_type": "stream",
     "text": [
      "['S' 'C' 'Q' nan]\n",
      "[0 1 2]\n"
     ]
    }
   ],
   "source": [
    "    # Replace Embarked label \"S\" with 0, \"C\" with 1, \"Q\" with 2\n",
    "\n",
    "print(titanic[\"Embarked\"].unique())\n",
    "\n",
    "titanic[\"Embarked\"] = titanic[\"Embarked\"].fillna('S')\n",
    "titanic.loc[titanic[\"Embarked\"] == \"S\", \"Embarked\"] = 0\n",
    "titanic.loc[titanic[\"Embarked\"] == \"C\", \"Embarked\"] = 1\n",
    "titanic.loc[titanic[\"Embarked\"] == \"Q\", \"Embarked\"] = 2\n",
    "\n",
    "print(titanic[\"Embarked\"].unique())"
   ]
  },
  {
   "cell_type": "code",
   "execution_count": 8,
   "metadata": {},
   "outputs": [],
   "source": [
    "# Prepare to test\n",
    "    # Preprocess the testing datasets (just as what we did previously)\n",
    "titanic_test = pd.read_csv(\"test.csv\")\n",
    "titanic_test[\"Age\"] = titanic_test[\"Age\"].fillna(titanic[\"Age\"].median())\n",
    "titanic_test[\"Fare\"] = titanic_test[\"Fare\"].fillna(titanic_test[\"Fare\"].median())\n",
    "titanic_test.loc[titanic_test[\"Sex\"] == \"male\", \"Sex\"] = 0 \n",
    "titanic_test.loc[titanic_test[\"Sex\"] == \"female\", \"Sex\"] = 1\n",
    "titanic_test[\"Embarked\"] = titanic_test[\"Embarked\"].fillna(\"S\")\n",
    "\n",
    "titanic_test.loc[titanic_test[\"Embarked\"] == \"S\", \"Embarked\"] = 0\n",
    "titanic_test.loc[titanic_test[\"Embarked\"] == \"C\", \"Embarked\"] = 1\n",
    "titanic_test.loc[titanic_test[\"Embarked\"] == \"Q\", \"Embarked\"] = 2"
   ]
  },
  {
   "cell_type": "code",
   "execution_count": 9,
   "metadata": {},
   "outputs": [],
   "source": [
    "# Select and Add features\n",
    "    # Generating a familysize column\n",
    "titanic[\"FamilySize\"] = titanic[\"SibSp\"] + titanic[\"Parch\"]\n",
    "\n",
    "    # Generating a namelength column\n",
    "titanic[\"NameLength\"] = titanic[\"Name\"].apply(lambda x: len(x))"
   ]
  },
  {
   "cell_type": "code",
   "execution_count": 10,
   "metadata": {
    "scrolled": true
   },
   "outputs": [
    {
     "name": "stdout",
     "output_type": "stream",
     "text": [
      "Mr          517\n",
      "Miss        182\n",
      "Mrs         125\n",
      "Master       40\n",
      "Dr            7\n",
      "Rev           6\n",
      "Col           2\n",
      "Major         2\n",
      "Mlle          2\n",
      "Ms            1\n",
      "Lady          1\n",
      "Countess      1\n",
      "Don           1\n",
      "Capt          1\n",
      "Mme           1\n",
      "Sir           1\n",
      "Jonkheer      1\n",
      "Name: Name, dtype: int64\n"
     ]
    }
   ],
   "source": [
    "# Get the title from the names\n",
    "def get_title(name):\n",
    "    # Use a regular expression to search for a title.  Titles always consist of capital and lowercase letters, and end with a period.\n",
    "    title_search = re.search(' ([A-Za-z]+)\\.', name)\n",
    "    # If the title exists, extract and return it.\n",
    "    if title_search:\n",
    "        return title_search.group(1)\n",
    "    return \"\"\n",
    "\n",
    "# Get all the titles and print how often each one occurs.\n",
    "titles = titanic[\"Name\"].apply(get_title)\n",
    "print(pd.value_counts(titles))"
   ]
  },
  {
   "cell_type": "code",
   "execution_count": 11,
   "metadata": {},
   "outputs": [],
   "source": [
    "# Map each title to an integer.  Some titles are very rare, and are compressed into the same codes as other titles.\n",
    "title_mapping = {\"Mr\": 1, \"Miss\": 2, \"Mrs\": 3, \"Master\": 4, \"Dr\": 5, \"Rev\": 6, \"Major\": 7, \"Col\": 7, \"Mlle\": 8, \"Mme\": 8, \"Don\": 9, \"Lady\": 10, \"Countess\": 10, \"Jonkheer\": 10, \"Sir\": 9, \"Capt\": 7, \"Ms\": 2}\n",
    "for k,v in title_mapping.items():\n",
    "    titles[titles == k] = v"
   ]
  },
  {
   "cell_type": "code",
   "execution_count": 12,
   "metadata": {},
   "outputs": [
    {
     "name": "stdout",
     "output_type": "stream",
     "text": [
      "1     517\n",
      "2     183\n",
      "3     125\n",
      "4      40\n",
      "5       7\n",
      "6       6\n",
      "7       5\n",
      "10      3\n",
      "8       3\n",
      "9       2\n",
      "Name: Name, dtype: int64\n"
     ]
    }
   ],
   "source": [
    "# Verify that we converted everything.\n",
    "print(pd.value_counts(titles))\n",
    "\n",
    "# Add in the title column.\n",
    "titanic[\"Title\"] = titles"
   ]
  },
  {
   "cell_type": "code",
   "execution_count": 13,
   "metadata": {},
   "outputs": [],
   "source": [
    "predictors = [\"Pclass\", \"Sex\", \"Age\", \"SibSp\", \"Parch\", \"Fare\", \"Embarked\", \"FamilySize\", \"Title\", \"NameLength\"] # renew the predict"
   ]
  },
  {
   "cell_type": "code",
   "execution_count": 17,
   "metadata": {},
   "outputs": [
    {
     "name": "stdout",
     "output_type": "stream",
     "text": [
      "Under f_classif selection, the best 4 features is:['Pclass', 'Sex', 'Title', 'NameLength']\n"
     ]
    }
   ],
   "source": [
    "# Perform feature selection: f_classif\n",
    "X, y = (titanic[predictors], titanic[\"Survived\"])\n",
    "selector = SelectKBest(f_classif, k=4)\n",
    "selector.fit(X,y)\n",
    "\n",
    "X_new = selector.transform(X)\n",
    "X_new.shape\n",
    "\n",
    "print(\"Under f_classif selection, the best 4 features is:{}\".format(X.columns[selector.get_support(indices=True)].tolist()))\n"
   ]
  },
  {
   "cell_type": "code",
   "execution_count": 19,
   "metadata": {},
   "outputs": [
    {
     "name": "stdout",
     "output_type": "stream",
     "text": [
      "Under chi2 selection,the best 4 features is:['Sex', 'Fare', 'Title', 'NameLength']\n"
     ]
    }
   ],
   "source": [
    "# Perform feature selection: chi2\n",
    "\n",
    "selector = SelectKBest(chi2, k=4)\n",
    "selector.fit(X,y)\n",
    "\n",
    "X_new = selector.transform(X)\n",
    "X_new.shape\n",
    "\n",
    "print(\"Under chi2 selection,the best 4 features is:{}\".format(X.columns[selector.get_support(indices=True)].tolist()))\n"
   ]
  },
  {
   "cell_type": "code",
   "execution_count": 20,
   "metadata": {},
   "outputs": [
    {
     "name": "stderr",
     "output_type": "stream",
     "text": [
      "C:\\Users\\j\\Anaconda3\\lib\\site-packages\\ipykernel_launcher.py:2: RuntimeWarning: divide by zero encountered in log10\n",
      "  \n"
     ]
    }
   ],
   "source": [
    "# Get the raw p-values for each feature, and transform from p-values into scores\n",
    "scores = -np.log10(selector.pvalues_)"
   ]
  },
  {
   "cell_type": "code",
   "execution_count": 21,
   "metadata": {},
   "outputs": [
    {
     "data": {
      "image/png": "[encoded data removed]",
      "text/plain": [
       "<Figure size 720x288 with 1 Axes>"
      ]
     },
     "metadata": {},
     "output_type": "display_data"
    }
   ],
   "source": [
    "# Plot the scores.  We can also see the \"Pclass\", \"Sex\", \"Title\", and \"Fare\" are the best\n",
    "predictors = [\"Pclass\", \"Sex\", \"Age\", \"SibSp\", \"Parch\", \"Fare\", \"Embarked\", \"FamilySize\", \"Title\", \"NameLength\"] # renew the predictors\n",
    "plt.figure(figsize=(10, 4))\n",
    "plt.style.use('bmh')\n",
    "plt.bar(range(len(predictors)), scores)\n",
    "plt.xticks(range(len(predictors)), predictors, rotation=45)\n",
    "plt.show()"
   ]
  },
  {
   "cell_type": "code",
   "execution_count": 22,
   "metadata": {},
   "outputs": [
    {
     "name": "stdout",
     "output_type": "stream",
     "text": [
      "With 4 best features and under RandomForest Regression of 4 folds, the scores of the Cross Validation is: 0.8126165533326407\n"
     ]
    }
   ],
   "source": [
    "# Pick only the four best features.\n",
    "predictors = [\"Pclass\", \"Sex\", \"Fare\", \"Title\"]\n",
    "alg = RandomForestClassifier(random_state=1, n_estimators=49, min_samples_split=4, min_samples_leaf=2)\n",
    "# Compute the accuracy score\n",
    "scores = cross_val_score(alg, titanic[predictors], titanic[\"Survived\"], cv=4)\n",
    "\n",
    "print(\"With 4 best features and under RandomForest Regression of 4 folds, the scores of the Cross Validation is:\", scores.mean())"
   ]
  },
  {
   "cell_type": "code",
   "execution_count": null,
   "metadata": {},
   "outputs": [
    {
     "name": "stderr",
     "output_type": "stream",
     "text": [
      "\r",
      "  0%|                                                                                            | 0/8 [00:00<?, ?it/s]"
     ]
    }
   ],
   "source": [
    "# Trial Comparison of different combinations of the parameters\n",
    "from tqdm import tqdm\n",
    "score = []\n",
    "\n",
    "for i in tqdm(range(2,10)):\n",
    "    for j in range(1,5):\n",
    "        for g in range(2,7):\n",
    "            for e in range(1,50):\n",
    "                alg = RandomForestClassifier(random_state=1, n_estimators=e, min_samples_split=i, min_samples_leaf=j)\n",
    "                # Compute the accuracy score for all the cross validation folds.  (much simpler than what we did before!)\n",
    "                scores = cross_val_score(alg, titanic[predictors], titanic[\"Survived\"], cv=g)\n",
    "                # Take the mean of the scores (because we have one for each fold)\n",
    "                score.append([[e,i,j,g],scores.mean()])"
   ]
  },
  {
   "cell_type": "code",
   "execution_count": null,
   "metadata": {},
   "outputs": [],
   "source": [
    "# Sort the selection of parameters according to Accuracy score\n",
    "score.sort(key = itemgetter(1),reverse=0)\n",
    "score_top10 = score[-10:]\n",
    "sc=np.array(score_top10)[:,-1]\n",
    "para=np.array(score_top10)[:,0]\n",
    "para = [str(x) for x in para]\n",
    "\n",
    "# 2 ways of visulization plot\n",
    "plt.figure(figsize=(10, 4))  \n",
    "plt.xticks(rotation=30) \n",
    "plt.plot(para,sc)\n",
    "plt.title('Accuracy_score under different parameters') "
   ]
  },
  {
   "cell_type": "code",
   "execution_count": null,
   "metadata": {},
   "outputs": [],
   "source": [
    "sns.barplot(sc,para)\n",
    "plt.xlim([0.832,0.84])  \n",
    "plt.title('Accuracy_score under different parameters') "
   ]
  }
 ],
 "metadata": {
  "kernelspec": {
   "display_name": "Python 3",
   "language": "python",
   "name": "python3"
  },
  "language_info": {
   "codemirror_mode": {
    "name": "ipython",
    "version": 3
   },
   "file_extension": ".py",
   "mimetype": "text/x-python",
   "name": "python",
   "nbconvert_exporter": "python",
   "pygments_lexer": "ipython3",
   "version": "3.6.5"
  }
 },
 "nbformat": 4,
 "nbformat_minor": 2
}
