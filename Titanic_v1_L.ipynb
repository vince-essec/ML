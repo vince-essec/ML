{
 "cells": [
  {
   "cell_type": "markdown",
   "metadata": {},
   "source": [
    "# Titanic Analysis\n",
    "## Data Processing"
   ]
  },
  {
   "cell_type": "code",
   "execution_count": 111,
   "metadata": {},
   "outputs": [],
   "source": [
    "# Notice: have not done:\n",
    "    #scaling\n",
    "    #examine the cov between features\n",
    "    #categorical to binary: https://stackoverflow.com/questions/32387266/converting-categorical-values-to-binary-using-pandas\n",
    "    #also change test data\n",
    "    "
   ]
  },
  {
   "cell_type": "code",
   "execution_count": 112,
   "metadata": {},
   "outputs": [],
   "source": [
    "import numpy as np\n",
    "import pandas as pd\n",
    "import matplotlib.pyplot as plt\n",
    "from matplotlib.pylab import style  \n",
    "import seaborn as sns\n",
    "from sklearn.linear_model import LinearRegression\n",
    "from sklearn.linear_model import LogisticRegression\n",
    "from sklearn.model_selection import cross_validate\n",
    "from sklearn.model_selection import KFold\n",
    "from sklearn.model_selection import train_test_split\n",
    "from sklearn.model_selection import cross_val_score\n",
    "from sklearn.metrics import accuracy_score\n",
    "from sklearn.feature_selection import SelectKBest, f_classif, chi2\n",
    "from sklearn.ensemble import GradientBoostingClassifier\n",
    "from sklearn.ensemble import RandomForestClassifier\n",
    "from sklearn.ensemble import RandomForestRegressor\n",
    "from operator import itemgetter\n",
    "import re\n",
    "import warnings\n",
    "warnings.filterwarnings(\"ignore\")\n",
    "\n",
    "style.use('seaborn')      \n",
    "plt.rcParams['font.sans-serif'] = ['SimHei']   \n",
    "plt.rcParams['axes.unicode_minus'] = False  "
   ]
  },
  {
   "cell_type": "code",
   "execution_count": 113,
   "metadata": {},
   "outputs": [
    {
     "data": {
      "text/html": [
       "<style  type=\"text/css\" >\n",
       "</style>  \n",
       "<table id=\"T_33551b8c_eb84_11e8_8701_501ac5ed90b4\" > \n",
       "<thead>    <tr> \n",
       "        <th class=\"blank level0\" ></th> \n",
       "        <th class=\"col_heading level0 col0\" >PassengerId</th> \n",
       "        <th class=\"col_heading level0 col1\" >Survived</th> \n",
       "        <th class=\"col_heading level0 col2\" >Pclass</th> \n",
       "        <th class=\"col_heading level0 col3\" >Name</th> \n",
       "        <th class=\"col_heading level0 col4\" >Sex</th> \n",
       "        <th class=\"col_heading level0 col5\" >Age</th> \n",
       "        <th class=\"col_heading level0 col6\" >SibSp</th> \n",
       "        <th class=\"col_heading level0 col7\" >Parch</th> \n",
       "        <th class=\"col_heading level0 col8\" >Ticket</th> \n",
       "        <th class=\"col_heading level0 col9\" >Fare</th> \n",
       "        <th class=\"col_heading level0 col10\" >Cabin</th> \n",
       "        <th class=\"col_heading level0 col11\" >Embarked</th> \n",
       "    </tr></thead> \n",
       "<tbody>    <tr> \n",
       "        <th id=\"T_33551b8c_eb84_11e8_8701_501ac5ed90b4level0_row0\" class=\"row_heading level0 row0\" >0</th> \n",
       "        <td id=\"T_33551b8c_eb84_11e8_8701_501ac5ed90b4row0_col0\" class=\"data row0 col0\" >1</td> \n",
       "        <td id=\"T_33551b8c_eb84_11e8_8701_501ac5ed90b4row0_col1\" class=\"data row0 col1\" >0</td> \n",
       "        <td id=\"T_33551b8c_eb84_11e8_8701_501ac5ed90b4row0_col2\" class=\"data row0 col2\" >3</td> \n",
       "        <td id=\"T_33551b8c_eb84_11e8_8701_501ac5ed90b4row0_col3\" class=\"data row0 col3\" >Braund, Mr. Owen Harris</td> \n",
       "        <td id=\"T_33551b8c_eb84_11e8_8701_501ac5ed90b4row0_col4\" class=\"data row0 col4\" >male</td> \n",
       "        <td id=\"T_33551b8c_eb84_11e8_8701_501ac5ed90b4row0_col5\" class=\"data row0 col5\" >22</td> \n",
       "        <td id=\"T_33551b8c_eb84_11e8_8701_501ac5ed90b4row0_col6\" class=\"data row0 col6\" >1</td> \n",
       "        <td id=\"T_33551b8c_eb84_11e8_8701_501ac5ed90b4row0_col7\" class=\"data row0 col7\" >0</td> \n",
       "        <td id=\"T_33551b8c_eb84_11e8_8701_501ac5ed90b4row0_col8\" class=\"data row0 col8\" >A/5 21171</td> \n",
       "        <td id=\"T_33551b8c_eb84_11e8_8701_501ac5ed90b4row0_col9\" class=\"data row0 col9\" >7.25</td> \n",
       "        <td id=\"T_33551b8c_eb84_11e8_8701_501ac5ed90b4row0_col10\" class=\"data row0 col10\" >nan</td> \n",
       "        <td id=\"T_33551b8c_eb84_11e8_8701_501ac5ed90b4row0_col11\" class=\"data row0 col11\" >S</td> \n",
       "    </tr>    <tr> \n",
       "        <th id=\"T_33551b8c_eb84_11e8_8701_501ac5ed90b4level0_row1\" class=\"row_heading level0 row1\" >1</th> \n",
       "        <td id=\"T_33551b8c_eb84_11e8_8701_501ac5ed90b4row1_col0\" class=\"data row1 col0\" >2</td> \n",
       "        <td id=\"T_33551b8c_eb84_11e8_8701_501ac5ed90b4row1_col1\" class=\"data row1 col1\" >1</td> \n",
       "        <td id=\"T_33551b8c_eb84_11e8_8701_501ac5ed90b4row1_col2\" class=\"data row1 col2\" >1</td> \n",
       "        <td id=\"T_33551b8c_eb84_11e8_8701_501ac5ed90b4row1_col3\" class=\"data row1 col3\" >Cumings, Mrs. John Bradley (Florence Briggs Thayer)</td> \n",
       "        <td id=\"T_33551b8c_eb84_11e8_8701_501ac5ed90b4row1_col4\" class=\"data row1 col4\" >female</td> \n",
       "        <td id=\"T_33551b8c_eb84_11e8_8701_501ac5ed90b4row1_col5\" class=\"data row1 col5\" >38</td> \n",
       "        <td id=\"T_33551b8c_eb84_11e8_8701_501ac5ed90b4row1_col6\" class=\"data row1 col6\" >1</td> \n",
       "        <td id=\"T_33551b8c_eb84_11e8_8701_501ac5ed90b4row1_col7\" class=\"data row1 col7\" >0</td> \n",
       "        <td id=\"T_33551b8c_eb84_11e8_8701_501ac5ed90b4row1_col8\" class=\"data row1 col8\" >PC 17599</td> \n",
       "        <td id=\"T_33551b8c_eb84_11e8_8701_501ac5ed90b4row1_col9\" class=\"data row1 col9\" >71.2833</td> \n",
       "        <td id=\"T_33551b8c_eb84_11e8_8701_501ac5ed90b4row1_col10\" class=\"data row1 col10\" >C85</td> \n",
       "        <td id=\"T_33551b8c_eb84_11e8_8701_501ac5ed90b4row1_col11\" class=\"data row1 col11\" >C</td> \n",
       "    </tr>    <tr> \n",
       "        <th id=\"T_33551b8c_eb84_11e8_8701_501ac5ed90b4level0_row2\" class=\"row_heading level0 row2\" >2</th> \n",
       "        <td id=\"T_33551b8c_eb84_11e8_8701_501ac5ed90b4row2_col0\" class=\"data row2 col0\" >3</td> \n",
       "        <td id=\"T_33551b8c_eb84_11e8_8701_501ac5ed90b4row2_col1\" class=\"data row2 col1\" >1</td> \n",
       "        <td id=\"T_33551b8c_eb84_11e8_8701_501ac5ed90b4row2_col2\" class=\"data row2 col2\" >3</td> \n",
       "        <td id=\"T_33551b8c_eb84_11e8_8701_501ac5ed90b4row2_col3\" class=\"data row2 col3\" >Heikkinen, Miss. Laina</td> \n",
       "        <td id=\"T_33551b8c_eb84_11e8_8701_501ac5ed90b4row2_col4\" class=\"data row2 col4\" >female</td> \n",
       "        <td id=\"T_33551b8c_eb84_11e8_8701_501ac5ed90b4row2_col5\" class=\"data row2 col5\" >26</td> \n",
       "        <td id=\"T_33551b8c_eb84_11e8_8701_501ac5ed90b4row2_col6\" class=\"data row2 col6\" >0</td> \n",
       "        <td id=\"T_33551b8c_eb84_11e8_8701_501ac5ed90b4row2_col7\" class=\"data row2 col7\" >0</td> \n",
       "        <td id=\"T_33551b8c_eb84_11e8_8701_501ac5ed90b4row2_col8\" class=\"data row2 col8\" >STON/O2. 3101282</td> \n",
       "        <td id=\"T_33551b8c_eb84_11e8_8701_501ac5ed90b4row2_col9\" class=\"data row2 col9\" >7.925</td> \n",
       "        <td id=\"T_33551b8c_eb84_11e8_8701_501ac5ed90b4row2_col10\" class=\"data row2 col10\" >nan</td> \n",
       "        <td id=\"T_33551b8c_eb84_11e8_8701_501ac5ed90b4row2_col11\" class=\"data row2 col11\" >S</td> \n",
       "    </tr>    <tr> \n",
       "        <th id=\"T_33551b8c_eb84_11e8_8701_501ac5ed90b4level0_row3\" class=\"row_heading level0 row3\" >3</th> \n",
       "        <td id=\"T_33551b8c_eb84_11e8_8701_501ac5ed90b4row3_col0\" class=\"data row3 col0\" >4</td> \n",
       "        <td id=\"T_33551b8c_eb84_11e8_8701_501ac5ed90b4row3_col1\" class=\"data row3 col1\" >1</td> \n",
       "        <td id=\"T_33551b8c_eb84_11e8_8701_501ac5ed90b4row3_col2\" class=\"data row3 col2\" >1</td> \n",
       "        <td id=\"T_33551b8c_eb84_11e8_8701_501ac5ed90b4row3_col3\" class=\"data row3 col3\" >Futrelle, Mrs. Jacques Heath (Lily May Peel)</td> \n",
       "        <td id=\"T_33551b8c_eb84_11e8_8701_501ac5ed90b4row3_col4\" class=\"data row3 col4\" >female</td> \n",
       "        <td id=\"T_33551b8c_eb84_11e8_8701_501ac5ed90b4row3_col5\" class=\"data row3 col5\" >35</td> \n",
       "        <td id=\"T_33551b8c_eb84_11e8_8701_501ac5ed90b4row3_col6\" class=\"data row3 col6\" >1</td> \n",
       "        <td id=\"T_33551b8c_eb84_11e8_8701_501ac5ed90b4row3_col7\" class=\"data row3 col7\" >0</td> \n",
       "        <td id=\"T_33551b8c_eb84_11e8_8701_501ac5ed90b4row3_col8\" class=\"data row3 col8\" >113803</td> \n",
       "        <td id=\"T_33551b8c_eb84_11e8_8701_501ac5ed90b4row3_col9\" class=\"data row3 col9\" >53.1</td> \n",
       "        <td id=\"T_33551b8c_eb84_11e8_8701_501ac5ed90b4row3_col10\" class=\"data row3 col10\" >C123</td> \n",
       "        <td id=\"T_33551b8c_eb84_11e8_8701_501ac5ed90b4row3_col11\" class=\"data row3 col11\" >S</td> \n",
       "    </tr>    <tr> \n",
       "        <th id=\"T_33551b8c_eb84_11e8_8701_501ac5ed90b4level0_row4\" class=\"row_heading level0 row4\" >4</th> \n",
       "        <td id=\"T_33551b8c_eb84_11e8_8701_501ac5ed90b4row4_col0\" class=\"data row4 col0\" >5</td> \n",
       "        <td id=\"T_33551b8c_eb84_11e8_8701_501ac5ed90b4row4_col1\" class=\"data row4 col1\" >0</td> \n",
       "        <td id=\"T_33551b8c_eb84_11e8_8701_501ac5ed90b4row4_col2\" class=\"data row4 col2\" >3</td> \n",
       "        <td id=\"T_33551b8c_eb84_11e8_8701_501ac5ed90b4row4_col3\" class=\"data row4 col3\" >Allen, Mr. William Henry</td> \n",
       "        <td id=\"T_33551b8c_eb84_11e8_8701_501ac5ed90b4row4_col4\" class=\"data row4 col4\" >male</td> \n",
       "        <td id=\"T_33551b8c_eb84_11e8_8701_501ac5ed90b4row4_col5\" class=\"data row4 col5\" >35</td> \n",
       "        <td id=\"T_33551b8c_eb84_11e8_8701_501ac5ed90b4row4_col6\" class=\"data row4 col6\" >0</td> \n",
       "        <td id=\"T_33551b8c_eb84_11e8_8701_501ac5ed90b4row4_col7\" class=\"data row4 col7\" >0</td> \n",
       "        <td id=\"T_33551b8c_eb84_11e8_8701_501ac5ed90b4row4_col8\" class=\"data row4 col8\" >373450</td> \n",
       "        <td id=\"T_33551b8c_eb84_11e8_8701_501ac5ed90b4row4_col9\" class=\"data row4 col9\" >8.05</td> \n",
       "        <td id=\"T_33551b8c_eb84_11e8_8701_501ac5ed90b4row4_col10\" class=\"data row4 col10\" >nan</td> \n",
       "        <td id=\"T_33551b8c_eb84_11e8_8701_501ac5ed90b4row4_col11\" class=\"data row4 col11\" >S</td> \n",
       "    </tr></tbody> \n",
       "</table> "
      ],
      "text/plain": [
       "<pandas.io.formats.style.Styler at 0x1be4843d9b0>"
      ]
     },
     "execution_count": 113,
     "metadata": {},
     "output_type": "execute_result"
    }
   ],
   "source": [
    "# Load dataset and view the table\n",
    "titanic = pd.read_csv(\"titanic_train.csv\")\n",
    "titanic.head(5).style"
   ]
  },
  {
   "cell_type": "code",
   "execution_count": 114,
   "metadata": {},
   "outputs": [
    {
     "data": {
      "text/html": [
       "<style  type=\"text/css\" >\n",
       "</style>  \n",
       "<table id=\"T_33d586a4_eb84_11e8_b013_501ac5ed90b4\" > \n",
       "<thead>    <tr> \n",
       "        <th class=\"blank level0\" ></th> \n",
       "        <th class=\"col_heading level0 col0\" >PassengerId</th> \n",
       "        <th class=\"col_heading level0 col1\" >Survived</th> \n",
       "        <th class=\"col_heading level0 col2\" >Pclass</th> \n",
       "        <th class=\"col_heading level0 col3\" >Age</th> \n",
       "        <th class=\"col_heading level0 col4\" >SibSp</th> \n",
       "        <th class=\"col_heading level0 col5\" >Parch</th> \n",
       "        <th class=\"col_heading level0 col6\" >Fare</th> \n",
       "    </tr></thead> \n",
       "<tbody>    <tr> \n",
       "        <th id=\"T_33d586a4_eb84_11e8_b013_501ac5ed90b4level0_row0\" class=\"row_heading level0 row0\" >count</th> \n",
       "        <td id=\"T_33d586a4_eb84_11e8_b013_501ac5ed90b4row0_col0\" class=\"data row0 col0\" >891</td> \n",
       "        <td id=\"T_33d586a4_eb84_11e8_b013_501ac5ed90b4row0_col1\" class=\"data row0 col1\" >891</td> \n",
       "        <td id=\"T_33d586a4_eb84_11e8_b013_501ac5ed90b4row0_col2\" class=\"data row0 col2\" >891</td> \n",
       "        <td id=\"T_33d586a4_eb84_11e8_b013_501ac5ed90b4row0_col3\" class=\"data row0 col3\" >714</td> \n",
       "        <td id=\"T_33d586a4_eb84_11e8_b013_501ac5ed90b4row0_col4\" class=\"data row0 col4\" >891</td> \n",
       "        <td id=\"T_33d586a4_eb84_11e8_b013_501ac5ed90b4row0_col5\" class=\"data row0 col5\" >891</td> \n",
       "        <td id=\"T_33d586a4_eb84_11e8_b013_501ac5ed90b4row0_col6\" class=\"data row0 col6\" >891</td> \n",
       "    </tr>    <tr> \n",
       "        <th id=\"T_33d586a4_eb84_11e8_b013_501ac5ed90b4level0_row1\" class=\"row_heading level0 row1\" >mean</th> \n",
       "        <td id=\"T_33d586a4_eb84_11e8_b013_501ac5ed90b4row1_col0\" class=\"data row1 col0\" >446</td> \n",
       "        <td id=\"T_33d586a4_eb84_11e8_b013_501ac5ed90b4row1_col1\" class=\"data row1 col1\" >0.383838</td> \n",
       "        <td id=\"T_33d586a4_eb84_11e8_b013_501ac5ed90b4row1_col2\" class=\"data row1 col2\" >2.30864</td> \n",
       "        <td id=\"T_33d586a4_eb84_11e8_b013_501ac5ed90b4row1_col3\" class=\"data row1 col3\" >29.6991</td> \n",
       "        <td id=\"T_33d586a4_eb84_11e8_b013_501ac5ed90b4row1_col4\" class=\"data row1 col4\" >0.523008</td> \n",
       "        <td id=\"T_33d586a4_eb84_11e8_b013_501ac5ed90b4row1_col5\" class=\"data row1 col5\" >0.381594</td> \n",
       "        <td id=\"T_33d586a4_eb84_11e8_b013_501ac5ed90b4row1_col6\" class=\"data row1 col6\" >32.2042</td> \n",
       "    </tr>    <tr> \n",
       "        <th id=\"T_33d586a4_eb84_11e8_b013_501ac5ed90b4level0_row2\" class=\"row_heading level0 row2\" >std</th> \n",
       "        <td id=\"T_33d586a4_eb84_11e8_b013_501ac5ed90b4row2_col0\" class=\"data row2 col0\" >257.354</td> \n",
       "        <td id=\"T_33d586a4_eb84_11e8_b013_501ac5ed90b4row2_col1\" class=\"data row2 col1\" >0.486592</td> \n",
       "        <td id=\"T_33d586a4_eb84_11e8_b013_501ac5ed90b4row2_col2\" class=\"data row2 col2\" >0.836071</td> \n",
       "        <td id=\"T_33d586a4_eb84_11e8_b013_501ac5ed90b4row2_col3\" class=\"data row2 col3\" >14.5265</td> \n",
       "        <td id=\"T_33d586a4_eb84_11e8_b013_501ac5ed90b4row2_col4\" class=\"data row2 col4\" >1.10274</td> \n",
       "        <td id=\"T_33d586a4_eb84_11e8_b013_501ac5ed90b4row2_col5\" class=\"data row2 col5\" >0.806057</td> \n",
       "        <td id=\"T_33d586a4_eb84_11e8_b013_501ac5ed90b4row2_col6\" class=\"data row2 col6\" >49.6934</td> \n",
       "    </tr>    <tr> \n",
       "        <th id=\"T_33d586a4_eb84_11e8_b013_501ac5ed90b4level0_row3\" class=\"row_heading level0 row3\" >min</th> \n",
       "        <td id=\"T_33d586a4_eb84_11e8_b013_501ac5ed90b4row3_col0\" class=\"data row3 col0\" >1</td> \n",
       "        <td id=\"T_33d586a4_eb84_11e8_b013_501ac5ed90b4row3_col1\" class=\"data row3 col1\" >0</td> \n",
       "        <td id=\"T_33d586a4_eb84_11e8_b013_501ac5ed90b4row3_col2\" class=\"data row3 col2\" >1</td> \n",
       "        <td id=\"T_33d586a4_eb84_11e8_b013_501ac5ed90b4row3_col3\" class=\"data row3 col3\" >0.42</td> \n",
       "        <td id=\"T_33d586a4_eb84_11e8_b013_501ac5ed90b4row3_col4\" class=\"data row3 col4\" >0</td> \n",
       "        <td id=\"T_33d586a4_eb84_11e8_b013_501ac5ed90b4row3_col5\" class=\"data row3 col5\" >0</td> \n",
       "        <td id=\"T_33d586a4_eb84_11e8_b013_501ac5ed90b4row3_col6\" class=\"data row3 col6\" >0</td> \n",
       "    </tr>    <tr> \n",
       "        <th id=\"T_33d586a4_eb84_11e8_b013_501ac5ed90b4level0_row4\" class=\"row_heading level0 row4\" >25%</th> \n",
       "        <td id=\"T_33d586a4_eb84_11e8_b013_501ac5ed90b4row4_col0\" class=\"data row4 col0\" >223.5</td> \n",
       "        <td id=\"T_33d586a4_eb84_11e8_b013_501ac5ed90b4row4_col1\" class=\"data row4 col1\" >0</td> \n",
       "        <td id=\"T_33d586a4_eb84_11e8_b013_501ac5ed90b4row4_col2\" class=\"data row4 col2\" >2</td> \n",
       "        <td id=\"T_33d586a4_eb84_11e8_b013_501ac5ed90b4row4_col3\" class=\"data row4 col3\" >20.125</td> \n",
       "        <td id=\"T_33d586a4_eb84_11e8_b013_501ac5ed90b4row4_col4\" class=\"data row4 col4\" >0</td> \n",
       "        <td id=\"T_33d586a4_eb84_11e8_b013_501ac5ed90b4row4_col5\" class=\"data row4 col5\" >0</td> \n",
       "        <td id=\"T_33d586a4_eb84_11e8_b013_501ac5ed90b4row4_col6\" class=\"data row4 col6\" >7.9104</td> \n",
       "    </tr>    <tr> \n",
       "        <th id=\"T_33d586a4_eb84_11e8_b013_501ac5ed90b4level0_row5\" class=\"row_heading level0 row5\" >50%</th> \n",
       "        <td id=\"T_33d586a4_eb84_11e8_b013_501ac5ed90b4row5_col0\" class=\"data row5 col0\" >446</td> \n",
       "        <td id=\"T_33d586a4_eb84_11e8_b013_501ac5ed90b4row5_col1\" class=\"data row5 col1\" >0</td> \n",
       "        <td id=\"T_33d586a4_eb84_11e8_b013_501ac5ed90b4row5_col2\" class=\"data row5 col2\" >3</td> \n",
       "        <td id=\"T_33d586a4_eb84_11e8_b013_501ac5ed90b4row5_col3\" class=\"data row5 col3\" >28</td> \n",
       "        <td id=\"T_33d586a4_eb84_11e8_b013_501ac5ed90b4row5_col4\" class=\"data row5 col4\" >0</td> \n",
       "        <td id=\"T_33d586a4_eb84_11e8_b013_501ac5ed90b4row5_col5\" class=\"data row5 col5\" >0</td> \n",
       "        <td id=\"T_33d586a4_eb84_11e8_b013_501ac5ed90b4row5_col6\" class=\"data row5 col6\" >14.4542</td> \n",
       "    </tr>    <tr> \n",
       "        <th id=\"T_33d586a4_eb84_11e8_b013_501ac5ed90b4level0_row6\" class=\"row_heading level0 row6\" >75%</th> \n",
       "        <td id=\"T_33d586a4_eb84_11e8_b013_501ac5ed90b4row6_col0\" class=\"data row6 col0\" >668.5</td> \n",
       "        <td id=\"T_33d586a4_eb84_11e8_b013_501ac5ed90b4row6_col1\" class=\"data row6 col1\" >1</td> \n",
       "        <td id=\"T_33d586a4_eb84_11e8_b013_501ac5ed90b4row6_col2\" class=\"data row6 col2\" >3</td> \n",
       "        <td id=\"T_33d586a4_eb84_11e8_b013_501ac5ed90b4row6_col3\" class=\"data row6 col3\" >38</td> \n",
       "        <td id=\"T_33d586a4_eb84_11e8_b013_501ac5ed90b4row6_col4\" class=\"data row6 col4\" >1</td> \n",
       "        <td id=\"T_33d586a4_eb84_11e8_b013_501ac5ed90b4row6_col5\" class=\"data row6 col5\" >0</td> \n",
       "        <td id=\"T_33d586a4_eb84_11e8_b013_501ac5ed90b4row6_col6\" class=\"data row6 col6\" >31</td> \n",
       "    </tr>    <tr> \n",
       "        <th id=\"T_33d586a4_eb84_11e8_b013_501ac5ed90b4level0_row7\" class=\"row_heading level0 row7\" >max</th> \n",
       "        <td id=\"T_33d586a4_eb84_11e8_b013_501ac5ed90b4row7_col0\" class=\"data row7 col0\" >891</td> \n",
       "        <td id=\"T_33d586a4_eb84_11e8_b013_501ac5ed90b4row7_col1\" class=\"data row7 col1\" >1</td> \n",
       "        <td id=\"T_33d586a4_eb84_11e8_b013_501ac5ed90b4row7_col2\" class=\"data row7 col2\" >3</td> \n",
       "        <td id=\"T_33d586a4_eb84_11e8_b013_501ac5ed90b4row7_col3\" class=\"data row7 col3\" >80</td> \n",
       "        <td id=\"T_33d586a4_eb84_11e8_b013_501ac5ed90b4row7_col4\" class=\"data row7 col4\" >8</td> \n",
       "        <td id=\"T_33d586a4_eb84_11e8_b013_501ac5ed90b4row7_col5\" class=\"data row7 col5\" >6</td> \n",
       "        <td id=\"T_33d586a4_eb84_11e8_b013_501ac5ed90b4row7_col6\" class=\"data row7 col6\" >512.329</td> \n",
       "    </tr></tbody> \n",
       "</table> "
      ],
      "text/plain": [
       "<pandas.io.formats.style.Styler at 0x1be42b06940>"
      ]
     },
     "execution_count": 114,
     "metadata": {},
     "output_type": "execute_result"
    }
   ],
   "source": [
    "# Examine the data\n",
    "titanic.describe().style"
   ]
  },
  {
   "cell_type": "code",
   "execution_count": 115,
   "metadata": {},
   "outputs": [
    {
     "data": {
      "image/png": "[encoded data removed]",
      "text/plain": [
       "<Figure size 576x396 with 2 Axes>"
      ]
     },
     "metadata": {},
     "output_type": "display_data"
    },
    {
     "name": "stdout",
     "output_type": "stream",
     "text": [
      "          Survived    Pclass       Age     SibSp     Parch      Fare\n",
      "Survived  1.000000 -0.338481 -0.077221 -0.035322  0.081629  0.257307\n",
      "Pclass   -0.338481  1.000000 -0.369226  0.083081  0.018443 -0.549500\n",
      "Age      -0.077221 -0.369226  1.000000 -0.308247 -0.189119  0.096067\n",
      "SibSp    -0.035322  0.083081 -0.308247  1.000000  0.414838  0.159651\n",
      "Parch     0.081629  0.018443 -0.189119  0.414838  1.000000  0.216225\n",
      "Fare      0.257307 -0.549500  0.096067  0.159651  0.216225  1.000000\n"
     ]
    }
   ],
   "source": [
    "#Correlation among variables#\n",
    "data=titanic[['Survived','Pclass','Age','SibSp','Parch','Fare','Sex']]\n",
    "data=data.corr()\n",
    "sns.heatmap(data)\n",
    "plt.title('train corr')\n",
    "plt.show()                   \n",
    "print(data)"
   ]
  },
  {
   "cell_type": "code",
   "execution_count": 116,
   "metadata": {},
   "outputs": [
    {
     "name": "stdout",
     "output_type": "stream",
     "text": [
      "<class 'pandas.core.frame.DataFrame'>\n",
      "RangeIndex: 891 entries, 0 to 890\n",
      "Data columns (total 12 columns):\n",
      "PassengerId    891 non-null int64\n",
      "Survived       891 non-null int64\n",
      "Pclass         891 non-null int64\n",
      "Name           891 non-null object\n",
      "Sex            891 non-null object\n",
      "Age            714 non-null float64\n",
      "SibSp          891 non-null int64\n",
      "Parch          891 non-null int64\n",
      "Ticket         891 non-null object\n",
      "Fare           891 non-null float64\n",
      "Cabin          204 non-null object\n",
      "Embarked       889 non-null object\n",
      "dtypes: float64(2), int64(5), object(5)\n",
      "memory usage: 83.6+ KB\n"
     ]
    }
   ],
   "source": [
    "titanic.info() #check missing values#"
   ]
  },
  {
   "cell_type": "code",
   "execution_count": 117,
   "metadata": {},
   "outputs": [
    {
     "data": {
      "text/html": [
       "<div>\n",
       "<style scoped>\n",
       "    .dataframe tbody tr th:only-of-type {\n",
       "        vertical-align: middle;\n",
       "    }\n",
       "\n",
       "    .dataframe tbody tr th {\n",
       "        vertical-align: top;\n",
       "    }\n",
       "\n",
       "    .dataframe thead th {\n",
       "        text-align: right;\n",
       "    }\n",
       "</style>\n",
       "<table border=\"1\" class=\"dataframe\">\n",
       "  <thead>\n",
       "    <tr style=\"text-align: right;\">\n",
       "      <th></th>\n",
       "      <th>PassengerId</th>\n",
       "      <th>Survived</th>\n",
       "      <th>Pclass</th>\n",
       "      <th>Name</th>\n",
       "      <th>Sex</th>\n",
       "      <th>Age</th>\n",
       "      <th>SibSp</th>\n",
       "      <th>Parch</th>\n",
       "      <th>Ticket</th>\n",
       "      <th>Fare</th>\n",
       "      <th>Cabin</th>\n",
       "      <th>Embarked</th>\n",
       "    </tr>\n",
       "  </thead>\n",
       "  <tbody>\n",
       "    <tr>\n",
       "      <th>61</th>\n",
       "      <td>62</td>\n",
       "      <td>1</td>\n",
       "      <td>1</td>\n",
       "      <td>Icard, Miss. Amelie</td>\n",
       "      <td>female</td>\n",
       "      <td>38.0</td>\n",
       "      <td>0</td>\n",
       "      <td>0</td>\n",
       "      <td>113572</td>\n",
       "      <td>80.0</td>\n",
       "      <td>B28</td>\n",
       "      <td>NaN</td>\n",
       "    </tr>\n",
       "    <tr>\n",
       "      <th>829</th>\n",
       "      <td>830</td>\n",
       "      <td>1</td>\n",
       "      <td>1</td>\n",
       "      <td>Stone, Mrs. George Nelson (Martha Evelyn)</td>\n",
       "      <td>female</td>\n",
       "      <td>62.0</td>\n",
       "      <td>0</td>\n",
       "      <td>0</td>\n",
       "      <td>113572</td>\n",
       "      <td>80.0</td>\n",
       "      <td>B28</td>\n",
       "      <td>NaN</td>\n",
       "    </tr>\n",
       "  </tbody>\n",
       "</table>\n",
       "</div>"
      ],
      "text/plain": [
       "     PassengerId  Survived  Pclass                                       Name  \\\n",
       "61            62         1       1                        Icard, Miss. Amelie   \n",
       "829          830         1       1  Stone, Mrs. George Nelson (Martha Evelyn)   \n",
       "\n",
       "        Sex   Age  SibSp  Parch  Ticket  Fare Cabin Embarked  \n",
       "61   female  38.0      0      0  113572  80.0   B28      NaN  \n",
       "829  female  62.0      0      0  113572  80.0   B28      NaN  "
      ]
     },
     "execution_count": 117,
     "metadata": {},
     "output_type": "execute_result"
    }
   ],
   "source": [
    "titanic[titanic['Embarked'].isnull()] #check other information of passengers whoes embarked lost#"
   ]
  },
  {
   "cell_type": "code",
   "execution_count": 118,
   "metadata": {},
   "outputs": [
    {
     "data": {
      "image/png": "[encoded data removed]",
      "text/plain": [
       "<Figure size 576x396 with 1 Axes>"
      ]
     },
     "metadata": {},
     "output_type": "display_data"
    }
   ],
   "source": [
    "titanic.Embarked[(titanic.Sex=='female')&(titanic.Pclass==1)&(titanic.Survived==1)].value_counts(normalize=True).plot(kind=\"bar\", alpha=0.5)\n",
    "plt.title('Survived_Female_Class1')\n",
    "plt.show()\n",
    "#the plot shows that s has highest probability#"
   ]
  },
  {
   "cell_type": "code",
   "execution_count": 119,
   "metadata": {},
   "outputs": [],
   "source": [
    "#missing value replacement#\n",
    "#Embarked---replace missing value. the above two passengers have some common features:female,survived,class1#\n",
    "titanic[titanic['Embarked'].isnull()]\n",
    "titanic.Embarked[titanic.Embarked.isnull()]=titanic['Embarked'].fillna('S')\n",
    "\n",
    "#Cabin#\n",
    "titanic['Cabin'] = titanic.Cabin.fillna('U0')\n",
    "# too many missing values, mode,median,mean are useless here.so we replace them by u0\n"
   ]
  },
  {
   "cell_type": "code",
   "execution_count": 120,
   "metadata": {},
   "outputs": [
    {
     "name": "stdout",
     "output_type": "stream",
     "text": [
      "Mr          517\n",
      "Miss        182\n",
      "Mrs         125\n",
      "Master       40\n",
      "Dr            7\n",
      "Rev           6\n",
      "Mlle          2\n",
      "Col           2\n",
      "Major         2\n",
      "Capt          1\n",
      "Jonkheer      1\n",
      "Sir           1\n",
      "Lady          1\n",
      "Mme           1\n",
      "Countess      1\n",
      "Don           1\n",
      "Ms            1\n",
      "Name: Name, dtype: int64\n",
      "1     517\n",
      "2     183\n",
      "3     125\n",
      "4      40\n",
      "5       7\n",
      "6       6\n",
      "7       5\n",
      "10      3\n",
      "8       3\n",
      "9       2\n",
      "Name: Name, dtype: int64\n"
     ]
    }
   ],
   "source": [
    "#Age--replace missing value by RFR\n",
    "\n",
    "# Get the title from the names\n",
    "def get_title(name):\n",
    "    # Use a regular expression to search for a title.  Titles always consist of capital and lowercase letters, and end with a period.\n",
    "    title_search = re.search(' ([A-Za-z]+)\\.', name)\n",
    "    # If the title exists, extract and return it.\n",
    "    if title_search:\n",
    "        return title_search.group(1)\n",
    "    return \"\"\n",
    "\n",
    "# Get all the titles and print how often each one occurs.\n",
    "titles = titanic[\"Name\"].apply(get_title)\n",
    "print(pd.value_counts(titles))\n",
    "\n",
    "# Map each title to an integer.  Some titles are very rare, and are compressed into the same codes as other titles.\n",
    "title_mapping = {\"Mr\": 1, \"Miss\": 2, \"Mrs\": 3, \"Master\": 4, \"Dr\": 5, \"Rev\": 6, \"Major\": 7, \"Col\": 7, \"Mlle\": 8, \"Mme\": 8, \"Don\": 9, \"Lady\": 10, \"Countess\": 10, \"Jonkheer\": 10, \"Sir\": 9, \"Capt\": 7, \"Ms\": 2}\n",
    "for k,v in title_mapping.items():\n",
    "    titles[titles == k] = v\n",
    "    \n",
    "# Verify that we converted everything.\n",
    "print(pd.value_counts(titles))\n",
    "\n",
    "# Add in the title column.\n",
    "titanic[\"Title\"] = titles"
   ]
  },
  {
   "cell_type": "code",
   "execution_count": 121,
   "metadata": {},
   "outputs": [
    {
     "data": {
      "text/plain": [
       "array([23.76667828, 31.54506842, 33.07624167, 32.56895574, 21.58312262,\n",
       "       27.87124071, 28.30258667, 26.20365046, 24.8111003 , 27.87124071,\n",
       "       30.80973483, 33.6551381 , 26.20365046, 26.027175  , 39.51210952,\n",
       "       36.61538976,  5.53194024, 27.87124071, 30.80973483, 21.85069919,\n",
       "       30.80973483, 30.80973483, 27.87124071, 29.57015787, 26.62976442,\n",
       "       30.80973483, 41.84428707,  5.71258393, 27.98      , 30.75438621,\n",
       "       25.64179036,  8.01154159, 42.17101667, 41.3877937 ,  5.93494802,\n",
       "       15.54133492, 28.89805833, 58.6795    , 30.54633333, 41.84428707,\n",
       "       26.20365046, 16.45931706, 33.75736048, 27.87124071,  6.8921631 ,\n",
       "       21.5654246 , 17.57454526, 23.63607383, 30.75438621, 51.07061905,\n",
       "       41.84428707, 26.20365046, 43.64861667, 26.20365046, 34.47765559,\n",
       "       39.93677169, 36.61538976, 42.00221905, 26.20365046, 24.89578095,\n",
       "       25.69963921, 30.80973483, 29.00071667, 16.45931706, 23.11164959,\n",
       "       25.60433333, 27.87124071, 27.2776    , 57.92305   , 32.56895574,\n",
       "       21.58312262, 21.58312262, 33.6551381 , 32.85811667, 26.20365046,\n",
       "       37.343     , 27.87124071, 24.53818857,  6.8921631 , 27.87124071,\n",
       "       24.85151645, 34.47765559, 35.61814513, 27.87124071, 30.75438621,\n",
       "       41.84428707, 27.2776    , 23.36399191, 30.73570238, 30.80973483,\n",
       "       37.98656905, 41.84428707, 30.80973483, 34.47765559, 24.53818857,\n",
       "       30.75438621, 45.67149524, 34.47765559,  6.8921631 , 30.73570238,\n",
       "       25.68158775, 28.89805833, 21.39676126, 48.44080155, 30.80973483,\n",
       "       36.23227839, 32.56895574, 24.8111003 , 30.67445556, 24.8111003 ,\n",
       "       35.03875   , 25.24808472, 40.87170621, 27.50332277, 30.67445556,\n",
       "       41.84428707, 30.80973483, 18.95212036, 24.8111003 , 26.20365046,\n",
       "       23.3922381 , 25.64579036, 30.80973483,  7.00659899, 36.55383333,\n",
       "       32.56895574, 27.87124071, 38.35245   , 27.91686701, 23.63607383,\n",
       "       41.84428707, 24.53818857, 34.47765559, 27.21375357, 29.68241502,\n",
       "       35.53895   , 27.87124071, 23.49996706, 27.87124071, 29.57015787,\n",
       "       36.54268571, 34.47765559, 18.771841  , 29.68241502, 19.37639521,\n",
       "        5.53194024, 48.44080155, 30.10951667, 19.37639521, 34.47765559,\n",
       "       27.87124071, 27.87124071, 45.3924631 , 25.24808472, 37.54476667,\n",
       "       32.69343294, 32.56895574, 41.84428707, 24.53818857, 31.89375   ,\n",
       "       41.84428707, 15.54133492, 50.36325   , 34.47765559, 34.70763005,\n",
       "       29.68241502, 41.84428707, 24.8111003 , 30.80973483, 52.5035619 ,\n",
       "       16.45931706, 33.842     , 24.8111003 , 15.54133492, 25.94618944,\n",
       "       27.87124071,  6.177075  ])"
      ]
     },
     "execution_count": 121,
     "metadata": {},
     "output_type": "execute_result"
    }
   ],
   "source": [
    "#choose training data to predict age\n",
    "age_titanic = titanic[['Age','Fare', 'Parch','SibSp','Parch','Title']] #select related variables put into the model\n",
    "age_titanic_notnull = age_titanic.loc[(titanic['Age'].notnull())] # select nonnull \n",
    "age_titanic_isnull = age_titanic.loc[(titanic['Age'].isnull())]\n",
    "X = age_titanic_notnull.values[:,1:] #set 'Fare', 'Parch','SibSp','Parch','Title' as X#\n",
    "Y = age_titanic_notnull.values[:,0] # set the first colume 'age' as Y#\n",
    "\n",
    "# use RandomForestRegression to train data\n",
    "RFR = RandomForestRegressor(n_estimators=1000, n_jobs=-1) \n",
    "#n_estimators : The number of trees in the forest b.\n",
    "#n_jobs: The number of jobs to run in parallel for both fit and predict.-1 means using all processors. \n",
    "\n",
    "RFR.fit(X,Y) #prediction\n",
    "predictAges = RFR.predict(age_titanic_isnull.values[:,1:])\n",
    "titanic.loc[titanic['Age'].isnull(), ['Age']]= predictAges\n",
    "predictAges"
   ]
  },
  {
   "cell_type": "code",
   "execution_count": 122,
   "metadata": {},
   "outputs": [
    {
     "name": "stdout",
     "output_type": "stream",
     "text": [
      "<class 'pandas.core.frame.DataFrame'>\n",
      "RangeIndex: 891 entries, 0 to 890\n",
      "Data columns (total 13 columns):\n",
      "PassengerId    891 non-null int64\n",
      "Survived       891 non-null int64\n",
      "Pclass         891 non-null int64\n",
      "Name           891 non-null object\n",
      "Sex            891 non-null object\n",
      "Age            891 non-null float64\n",
      "SibSp          891 non-null int64\n",
      "Parch          891 non-null int64\n",
      "Ticket         891 non-null object\n",
      "Fare           891 non-null float64\n",
      "Cabin          891 non-null object\n",
      "Embarked       891 non-null object\n",
      "Title          891 non-null object\n",
      "dtypes: float64(2), int64(5), object(6)\n",
      "memory usage: 90.6+ KB\n"
     ]
    }
   ],
   "source": [
    "titanic.info() #check whether imputation is successful"
   ]
  },
  {
   "cell_type": "code",
   "execution_count": 123,
   "metadata": {},
   "outputs": [
    {
     "name": "stdout",
     "output_type": "stream",
     "text": [
      "['male' 'female']\n",
      "[0 1]\n"
     ]
    }
   ],
   "source": [
    "print(titanic[\"Sex\"].unique()) # view\n",
    "\n",
    "titanic.loc[titanic[\"Sex\"] == \"male\", \"Sex\"] = 0\n",
    "titanic.loc[titanic[\"Sex\"] == \"female\", \"Sex\"] = 1\n",
    "\n",
    "print(titanic[\"Sex\"].unique()) # check"
   ]
  },
  {
   "cell_type": "code",
   "execution_count": 124,
   "metadata": {},
   "outputs": [
    {
     "name": "stdout",
     "output_type": "stream",
     "text": [
      "['S' 'C' 'Q']\n",
      "[0 1 2]\n"
     ]
    }
   ],
   "source": [
    "    # Replace Embarked label \"S\" with 0, \"C\" with 1, \"Q\" with 2\n",
    "\n",
    "print(titanic[\"Embarked\"].unique())\n",
    "\n",
    "titanic[\"Embarked\"] = titanic[\"Embarked\"].fillna('S')\n",
    "titanic.loc[titanic[\"Embarked\"] == \"S\", \"Embarked\"] = 0\n",
    "titanic.loc[titanic[\"Embarked\"] == \"C\", \"Embarked\"] = 1\n",
    "titanic.loc[titanic[\"Embarked\"] == \"Q\", \"Embarked\"] = 2\n",
    "\n",
    "print(titanic[\"Embarked\"].unique())"
   ]
  },
  {
   "cell_type": "code",
   "execution_count": 125,
   "metadata": {},
   "outputs": [
    {
     "data": {
      "text/plain": [
       "pandas.core.frame.DataFrame"
      ]
     },
     "execution_count": 125,
     "metadata": {},
     "output_type": "execute_result"
    }
   ],
   "source": [
    "type(titanic)"
   ]
  },
  {
   "cell_type": "code",
   "execution_count": 126,
   "metadata": {},
   "outputs": [
    {
     "name": "stdout",
     "output_type": "stream",
     "text": [
      "Mr        240\n",
      "Miss       78\n",
      "Mrs        72\n",
      "Master     21\n",
      "Rev         2\n",
      "Col         2\n",
      "Dona        1\n",
      "Dr          1\n",
      "Ms          1\n",
      "Name: Name, dtype: int64\n",
      "1    240\n",
      "2     79\n",
      "3     72\n",
      "4     21\n",
      "7      2\n",
      "6      2\n",
      "8      1\n",
      "5      1\n",
      "Name: Name, dtype: int64\n"
     ]
    }
   ],
   "source": [
    "# Prepare to test\n",
    "    # Preprocess the testing datasets (just as what we did previously)\n",
    "titanic_test = pd.read_csv(\"test.csv\")\n",
    "# titanic_test[\"Age\"] = titanic_test[\"Age\"].fillna(titanic[\"Age\"].median())\n",
    "\n",
    "# Get all the titles and print how often each one occurs.\n",
    "titles = titanic_test[\"Name\"].apply(get_title)\n",
    "print(pd.value_counts(titles))\n",
    "\n",
    "# Map each title to an integer.  Some titles are very rare, and are compressed into the same codes as other titles.\n",
    "title_mapping = {\"Mr\": 1, \"Miss\": 2, \"Mrs\": 3, \"Master\": 4, \"Dr\": 5, \"Rev\": 6, \"Major\": 7, \"Col\": 7, \"Mlle\": 8, \"Mme\": 8, \"Dona\":8, \"Don\": 9, \"Lady\": 10, \"Countess\": 10, \"Jonkheer\": 10, \"Sir\": 9, \"Capt\": 7, \"Ms\": 2}\n",
    "for k,v in title_mapping.items():\n",
    "    titles[titles == k] = v\n",
    "    \n",
    "# Verify that we converted everything.\n",
    "print(pd.value_counts(titles))\n",
    "\n",
    "# Add in the title column.\n",
    "titanic_test[\"Title\"] = titles"
   ]
  },
  {
   "cell_type": "code",
   "execution_count": 127,
   "metadata": {},
   "outputs": [],
   "source": [
    "#Test set--missing value#\n",
    "#Fare#\n",
    "titanic_test[\"Fare\"] = titanic_test[\"Fare\"].fillna(titanic_test[\"Fare\"].median())\n",
    "#Embarked#\n",
    "titanic_test[\"Embarked\"] = titanic_test[\"Embarked\"].fillna(\"Q\")\n",
    "#cabin#\n",
    "titanic_test['Cabin'] = titanic_test.Cabin.fillna('U0')\n",
    "\n",
    "\n",
    "#choose testing data to predict age\n",
    "age_test = titanic_test[['Age','Fare', 'Parch','SibSp','Parch','Title']]\n",
    "\n",
    "age_test_notnull = age_test[age_test['Age'].notnull()]\n",
    "age_test_isnull = age_test[(age_test['Age'].isnull())]\n",
    "\n",
    "X = age_test_notnull.values[:,1:]\n",
    "Y = age_test_notnull.values[:,0]\n",
    "\n",
    "\n",
    "# use RandomForestRegression to test data\n",
    "RFR = RandomForestRegressor(n_estimators=1000, n_jobs=-1)\n",
    "RFR.fit(X,Y)\n",
    "predict_test_Ages = RFR.predict(age_test_isnull.values[:,1:])\n",
    "titanic_test.loc[titanic_test['Age'].isnull(), ['Age']]= predict_test_Ages\n",
    "predict_test_Ages"
   ]
  },
  {
   "cell_type": "code",
   "execution_count": null,
   "metadata": {},
   "outputs": [],
   "source": [
    "titanic_test.info()"
   ]
  },
  {
   "cell_type": "code",
   "execution_count": 18,
   "metadata": {},
   "outputs": [],
   "source": [
    "titanic_test.loc[titanic_test[\"Embarked\"] == \"S\", \"Embarked\"] = 0\n",
    "titanic_test.loc[titanic_test[\"Embarked\"] == \"C\", \"Embarked\"] = 1\n",
    "titanic_test.loc[titanic_test[\"Embarked\"] == \"Q\", \"Embarked\"] = 2"
   ]
  },
  {
   "cell_type": "markdown",
   "metadata": {},
   "source": [
    "## Feature Engineering"
   ]
  },
  {
   "cell_type": "code",
   "execution_count": 20,
   "metadata": {},
   "outputs": [],
   "source": [
    "full_dataset = [titanic, titanic_test]"
   ]
  },
  {
   "cell_type": "code",
   "execution_count": 297,
   "metadata": {},
   "outputs": [],
   "source": [
    "# Generating age group\n",
    "for dataset in full_dataset:    \n",
    "    dataset.loc[dataset[\"Age\"] <= 14, \"AgeC\"] = 0\n",
    "    dataset.loc[(dataset[\"Age\"] > 14) & (dataset[\"Age\"] <= 34), \"AgeC\"] = 1\n",
    "    dataset.loc[(dataset[\"Age\"] > 34) & (dataset[\"Age\"] <= 53), \"AgeC\"] = 2\n",
    "    dataset.loc[dataset[\"Age\"] > 53, \"AgeC\"] = 3\n",
    "    \n",
    "# Generating familysize\n",
    "for dataset in full_dataset:  \n",
    "    dataset[\"FamilySize\"] = dataset[\"SibSp\"] + dataset[\"Parch\"]\n",
    "\n",
    "# Generating traveling alone\n",
    "for dataset in full_dataset:   \n",
    "    dataset[\"Alone\"] = 0\n",
    "    dataset.loc[dataset[\"FamilySize\"] == 0, \"Alone\"] = 1\n",
    "\n",
    "# Get the title from the names\n",
    "def get_title(name):\n",
    "    # Use a regular expression to search for a title.  Titles always consist of capital and lowercase letters, and end with a period.\n",
    "    title_search = re.search(' ([A-Za-z]+)\\.', name)\n",
    "    # If the title exists, extract and return it.\n",
    "    if title_search:\n",
    "        return title_search.group(1)\n",
    "    return \"\"\n",
    "\n",
    "# Map each title to an integer.  Some titles are very rare, and are compressed into the same codes as other titles.\n",
    "title_mapping = {\"Mr\": 0, \"Miss\": 1, \"Mrs\": 2, \"Master\": 3, \"Dr\": 4, \"Rev\": 4, \"Major\": 4, \"Col\": 4, \"Mlle\": 4, \"Mme\": 4, \"Don\": 4, \"Lady\": 4, \"Countess\": 4, \"Jonkheer\": 4, \"Sir\": 4, \"Capt\": 4, \"Ms\": 4}\n",
    "    \n",
    "# Generating Title\n",
    "for dataset in full_dataset: \n",
    "    dataset[\"Title\"] = dataset[\"Name\"].apply(get_title)\n",
    "    for k,v in title_mapping.items():\n",
    "        dataset.loc[dataset[\"Title\"] == k, \"Title\"] = v\n",
    "          \n",
    "# Generating Name Length\n",
    "for dataset in full_dataset: \n",
    "    dataset[\"NameLength\"] = dataset[\"Name\"].apply(lambda x: len(x))"
   ]
  },
  {
   "cell_type": "code",
   "execution_count": 326,
   "metadata": {},
   "outputs": [
    {
     "name": "stderr",
     "output_type": "stream",
     "text": [
      "/anaconda3/lib/python3.6/site-packages/pandas/core/ops.py:1164: FutureWarning: elementwise comparison failed; returning scalar instead, but in the future will perform elementwise comparison\n",
      "  result = method(y)\n"
     ]
    },
    {
     "ename": "TypeError",
     "evalue": "invalid type comparison",
     "output_type": "error",
     "traceback": [
      "\u001b[0;31m---------------------------------------------------------------------------\u001b[0m",
      "\u001b[0;31mTypeError\u001b[0m                                 Traceback (most recent call last)",
      "\u001b[0;32m<ipython-input-326-5520c50896ef>\u001b[0m in \u001b[0;36m<module>\u001b[0;34m()\u001b[0m\n\u001b[1;32m     19\u001b[0m     \u001b[0mdataset\u001b[0m\u001b[0;34m[\u001b[0m\u001b[0;34m\"Position\"\u001b[0m\u001b[0;34m]\u001b[0m \u001b[0;34m=\u001b[0m \u001b[0mdataset\u001b[0m\u001b[0;34m[\u001b[0m\u001b[0;34m\"Position\"\u001b[0m\u001b[0;34m]\u001b[0m\u001b[0;34m.\u001b[0m\u001b[0mastype\u001b[0m\u001b[0;34m(\u001b[0m\u001b[0mstr\u001b[0m\u001b[0;34m)\u001b[0m\u001b[0;34m\u001b[0m\u001b[0m\n\u001b[1;32m     20\u001b[0m     \u001b[0;32mfor\u001b[0m \u001b[0mk\u001b[0m\u001b[0;34m,\u001b[0m\u001b[0mv\u001b[0m \u001b[0;32min\u001b[0m \u001b[0mposition_mapping\u001b[0m\u001b[0;34m.\u001b[0m\u001b[0mitems\u001b[0m\u001b[0;34m(\u001b[0m\u001b[0;34m)\u001b[0m\u001b[0;34m:\u001b[0m\u001b[0;34m\u001b[0m\u001b[0m\n\u001b[0;32m---> 21\u001b[0;31m         \u001b[0mdataset\u001b[0m\u001b[0;34m.\u001b[0m\u001b[0mloc\u001b[0m\u001b[0;34m[\u001b[0m\u001b[0mdataset\u001b[0m\u001b[0;34m[\u001b[0m\u001b[0;34m\"Position\"\u001b[0m\u001b[0;34m]\u001b[0m \u001b[0;34m==\u001b[0m \u001b[0mk\u001b[0m\u001b[0;34m,\u001b[0m \u001b[0;34m\"Position\"\u001b[0m\u001b[0;34m]\u001b[0m \u001b[0;34m=\u001b[0m \u001b[0mv\u001b[0m\u001b[0;34m\u001b[0m\u001b[0m\n\u001b[0m\u001b[1;32m     22\u001b[0m \u001b[0;34m\u001b[0m\u001b[0m\n\u001b[1;32m     23\u001b[0m \u001b[0;31m# Generating Pair\u001b[0m\u001b[0;34m\u001b[0m\u001b[0;34m\u001b[0m\u001b[0m\n",
      "\u001b[0;32m/anaconda3/lib/python3.6/site-packages/pandas/core/ops.py\u001b[0m in \u001b[0;36mwrapper\u001b[0;34m(self, other, axis)\u001b[0m\n\u001b[1;32m   1251\u001b[0m \u001b[0;34m\u001b[0m\u001b[0m\n\u001b[1;32m   1252\u001b[0m             \u001b[0;32mwith\u001b[0m \u001b[0mnp\u001b[0m\u001b[0;34m.\u001b[0m\u001b[0merrstate\u001b[0m\u001b[0;34m(\u001b[0m\u001b[0mall\u001b[0m\u001b[0;34m=\u001b[0m\u001b[0;34m'ignore'\u001b[0m\u001b[0;34m)\u001b[0m\u001b[0;34m:\u001b[0m\u001b[0;34m\u001b[0m\u001b[0m\n\u001b[0;32m-> 1253\u001b[0;31m                 \u001b[0mres\u001b[0m \u001b[0;34m=\u001b[0m \u001b[0mna_op\u001b[0m\u001b[0;34m(\u001b[0m\u001b[0mvalues\u001b[0m\u001b[0;34m,\u001b[0m \u001b[0mother\u001b[0m\u001b[0;34m)\u001b[0m\u001b[0;34m\u001b[0m\u001b[0m\n\u001b[0m\u001b[1;32m   1254\u001b[0m             \u001b[0;32mif\u001b[0m \u001b[0mis_scalar\u001b[0m\u001b[0;34m(\u001b[0m\u001b[0mres\u001b[0m\u001b[0;34m)\u001b[0m\u001b[0;34m:\u001b[0m\u001b[0;34m\u001b[0m\u001b[0m\n\u001b[1;32m   1255\u001b[0m                 raise TypeError('Could not compare {typ} type with Series'\n",
      "\u001b[0;32m/anaconda3/lib/python3.6/site-packages/pandas/core/ops.py\u001b[0m in \u001b[0;36mna_op\u001b[0;34m(x, y)\u001b[0m\n\u001b[1;32m   1164\u001b[0m                     \u001b[0mresult\u001b[0m \u001b[0;34m=\u001b[0m \u001b[0mmethod\u001b[0m\u001b[0;34m(\u001b[0m\u001b[0my\u001b[0m\u001b[0;34m)\u001b[0m\u001b[0;34m\u001b[0m\u001b[0m\n\u001b[1;32m   1165\u001b[0m                 \u001b[0;32mif\u001b[0m \u001b[0mresult\u001b[0m \u001b[0;32mis\u001b[0m \u001b[0mNotImplemented\u001b[0m\u001b[0;34m:\u001b[0m\u001b[0;34m\u001b[0m\u001b[0m\n\u001b[0;32m-> 1166\u001b[0;31m                     \u001b[0;32mraise\u001b[0m \u001b[0mTypeError\u001b[0m\u001b[0;34m(\u001b[0m\u001b[0;34m\"invalid type comparison\"\u001b[0m\u001b[0;34m)\u001b[0m\u001b[0;34m\u001b[0m\u001b[0m\n\u001b[0m\u001b[1;32m   1167\u001b[0m             \u001b[0;32melse\u001b[0m\u001b[0;34m:\u001b[0m\u001b[0;34m\u001b[0m\u001b[0m\n\u001b[1;32m   1168\u001b[0m                 \u001b[0mresult\u001b[0m \u001b[0;34m=\u001b[0m \u001b[0mop\u001b[0m\u001b[0;34m(\u001b[0m\u001b[0mx\u001b[0m\u001b[0;34m,\u001b[0m \u001b[0my\u001b[0m\u001b[0;34m)\u001b[0m\u001b[0;34m\u001b[0m\u001b[0m\n",
      "\u001b[0;31mTypeError\u001b[0m: invalid type comparison"
     ]
    }
   ],
   "source": [
    "# Generating Price Range\n",
    "for dataset in full_dataset:    \n",
    "    dataset.loc[dataset[\"Fare\"] <= 7.9, \"FareC\"] = 0\n",
    "    dataset.loc[(dataset[\"Fare\"] > 7.9) & (dataset[\"Fare\"] <= 14.5), \"FareC\"] = 1\n",
    "    dataset.loc[(dataset[\"Fare\"] > 14.5) & (dataset[\"Fare\"] <= 31), \"FareC\"] = 2\n",
    "    dataset.loc[dataset[\"Fare\"] > 31, \"FareC\"] = 3\n",
    "\n",
    "# Generating Has Cabin\n",
    "for dataset in full_dataset:\n",
    "    dataset[\"NoCabin\"] = pd.isna(dataset[\"Cabin\"])\n",
    "\n",
    "# Generating Position\n",
    "# Map each Position to an integer.\n",
    "position_mapping = {\"0\": 0, \"A\": 1, \"B\": 2, \"C\": 3, \"D\": 4, \"E\": 5, \"F\": 6, \"G\": 7, \"T\": 8}\n",
    "        \n",
    "for dataset in full_dataset:\n",
    "    dataset[\"Position\"] = dataset[\"Cabin\"].str[0]\n",
    "    dataset[\"Position\"].fillna(\"0\", inplace=True)\n",
    "    dataset[\"Position\"] = dataset[\"Position\"].astype(str)\n",
    "    for k,v in position_mapping.items():\n",
    "        dataset.loc[dataset[\"Position\"] == k, \"Position\"] = v\n",
    "\n",
    "# Generating Pair\n",
    "def NumberFromStrings(string):\n",
    "    numberfromstring = re.findall('\\d+',string)\n",
    "    if numberfromstring == []:\n",
    "        return int(0)\n",
    "    else:\n",
    "        return int(numberfromstring[0])\n",
    "\n",
    "# This method considers cabin without numbers, f.ex. \"F\", as being even number rooms.\n",
    "for dataset in full_dataset: \n",
    "    dataset[\"Pair\"] = dataset[\"Cabin\"].astype(str)\n",
    "    dataset[\"Pair\"] = dataset[\"Pair\"].apply(NumberFromStrings)\n",
    "    dataset[\"Pair\"] = dataset[\"Pair\"] % 2\n",
    "    dataset.loc[pd.isna(dataset[\"Cabin\"]), \"Pair\"] = -1"
   ]
  },
  {
   "cell_type": "code",
   "execution_count": 321,
   "metadata": {},
   "outputs": [
    {
     "data": {
      "text/plain": [
       "array(['0', 'C', 'E', 'G', 'D', 'A', 'B', 'F', 'T'], dtype=object)"
      ]
     },
     "execution_count": 321,
     "metadata": {},
     "output_type": "execute_result"
    }
   ],
   "source": [
    "titanic.Position.unique()"
   ]
  },
  {
   "cell_type": "code",
   "execution_count": 323,
   "metadata": {},
   "outputs": [
    {
     "name": "stdout",
     "output_type": "stream",
     "text": [
      "  col2 col1\n",
      "0    a    w\n",
      "1    2    A\n",
      "2  NaN    B\n",
      "  col2 col1\n",
      "0    a    w\n",
      "1    2    1\n",
      "2  NaN    2\n"
     ]
    }
   ],
   "source": [
    "df = pd.DataFrame({'col2': {0: 'a', 1: 2, 2: np.nan}, 'col1': {0: 'w', 1: 'A', 2: 'B'}})\n",
    "di = {\"B\": 2, \"A\": 1}\n",
    "print(df)\n",
    "print(df.replace({\"col1\": di}))\n"
   ]
  },
  {
   "cell_type": "markdown",
   "metadata": {},
   "source": [
    "## Feature Scalling\n",
    "\n",
    "Here, all studied variables are categorical or of small scale (number of siblings or length of name). We do not need to perform feature scalling"
   ]
  },
  {
   "cell_type": "markdown",
   "metadata": {},
   "source": [
    "## Transforming  To Categorical Variables"
   ]
  },
  {
   "cell_type": "code",
   "execution_count": 281,
   "metadata": {},
   "outputs": [
    {
     "data": {
      "text/plain": [
       "array([0, 'C', 'E', 'G', 'D', 'A', 'B', 'F', 'T'], dtype=object)"
      ]
     },
     "execution_count": 281,
     "metadata": {},
     "output_type": "execute_result"
    }
   ],
   "source": [
    "titanic.Position.unique()"
   ]
  },
  {
   "cell_type": "markdown",
   "metadata": {},
   "source": [
    "## Dimensionality Reduction"
   ]
  },
  {
   "cell_type": "markdown",
   "metadata": {},
   "source": [
    "## Learning Algorithm"
   ]
  },
  {
   "cell_type": "code",
   "execution_count": 279,
   "metadata": {},
   "outputs": [],
   "source": [
    "predictors = [\"Pclass\", \"Sex\", \"AgeC\", \"SibSp\", \"Parch\", \"FamilySize\", \"Alone\", \"FareC\", \"Embarked\", \"Title\", \"NameLength\", \"NoCabin\", \"Position\", \"Pair\"] # renew the predict"
   ]
  },
  {
   "cell_type": "code",
   "execution_count": 280,
   "metadata": {},
   "outputs": [
    {
     "ename": "ValueError",
     "evalue": "could not convert string to float: 'C'",
     "output_type": "error",
     "traceback": [
      "\u001b[0;31m---------------------------------------------------------------------------\u001b[0m",
      "\u001b[0;31mValueError\u001b[0m                                Traceback (most recent call last)",
      "\u001b[0;32m<ipython-input-280-1cc484551c2d>\u001b[0m in \u001b[0;36m<module>\u001b[0;34m()\u001b[0m\n\u001b[1;32m      2\u001b[0m \u001b[0mX\u001b[0m\u001b[0;34m,\u001b[0m \u001b[0my\u001b[0m \u001b[0;34m=\u001b[0m \u001b[0;34m(\u001b[0m\u001b[0mtitanic\u001b[0m\u001b[0;34m[\u001b[0m\u001b[0mpredictors\u001b[0m\u001b[0;34m]\u001b[0m\u001b[0;34m,\u001b[0m \u001b[0mtitanic\u001b[0m\u001b[0;34m[\u001b[0m\u001b[0;34m\"Survived\"\u001b[0m\u001b[0;34m]\u001b[0m\u001b[0;34m)\u001b[0m\u001b[0;34m\u001b[0m\u001b[0m\n\u001b[1;32m      3\u001b[0m \u001b[0mselector\u001b[0m \u001b[0;34m=\u001b[0m \u001b[0mSelectKBest\u001b[0m\u001b[0;34m(\u001b[0m\u001b[0mf_classif\u001b[0m\u001b[0;34m,\u001b[0m \u001b[0mk\u001b[0m\u001b[0;34m=\u001b[0m\u001b[0;36m4\u001b[0m\u001b[0;34m)\u001b[0m\u001b[0;34m\u001b[0m\u001b[0m\n\u001b[0;32m----> 4\u001b[0;31m \u001b[0mselector\u001b[0m\u001b[0;34m.\u001b[0m\u001b[0mfit\u001b[0m\u001b[0;34m(\u001b[0m\u001b[0mX\u001b[0m\u001b[0;34m,\u001b[0m\u001b[0my\u001b[0m\u001b[0;34m)\u001b[0m\u001b[0;34m\u001b[0m\u001b[0m\n\u001b[0m\u001b[1;32m      5\u001b[0m \u001b[0;34m\u001b[0m\u001b[0m\n\u001b[1;32m      6\u001b[0m \u001b[0mX_new\u001b[0m \u001b[0;34m=\u001b[0m \u001b[0mselector\u001b[0m\u001b[0;34m.\u001b[0m\u001b[0mtransform\u001b[0m\u001b[0;34m(\u001b[0m\u001b[0mX\u001b[0m\u001b[0;34m)\u001b[0m\u001b[0;34m\u001b[0m\u001b[0m\n",
      "\u001b[0;32m/anaconda3/lib/python3.6/site-packages/sklearn/feature_selection/univariate_selection.py\u001b[0m in \u001b[0;36mfit\u001b[0;34m(self, X, y)\u001b[0m\n\u001b[1;32m    339\u001b[0m             \u001b[0mReturns\u001b[0m \u001b[0mself\u001b[0m\u001b[0;34m.\u001b[0m\u001b[0;34m\u001b[0m\u001b[0m\n\u001b[1;32m    340\u001b[0m         \"\"\"\n\u001b[0;32m--> 341\u001b[0;31m         \u001b[0mX\u001b[0m\u001b[0;34m,\u001b[0m \u001b[0my\u001b[0m \u001b[0;34m=\u001b[0m \u001b[0mcheck_X_y\u001b[0m\u001b[0;34m(\u001b[0m\u001b[0mX\u001b[0m\u001b[0;34m,\u001b[0m \u001b[0my\u001b[0m\u001b[0;34m,\u001b[0m \u001b[0;34m[\u001b[0m\u001b[0;34m'csr'\u001b[0m\u001b[0;34m,\u001b[0m \u001b[0;34m'csc'\u001b[0m\u001b[0;34m]\u001b[0m\u001b[0;34m,\u001b[0m \u001b[0mmulti_output\u001b[0m\u001b[0;34m=\u001b[0m\u001b[0;32mTrue\u001b[0m\u001b[0;34m)\u001b[0m\u001b[0;34m\u001b[0m\u001b[0m\n\u001b[0m\u001b[1;32m    342\u001b[0m \u001b[0;34m\u001b[0m\u001b[0m\n\u001b[1;32m    343\u001b[0m         \u001b[0;32mif\u001b[0m \u001b[0;32mnot\u001b[0m \u001b[0mcallable\u001b[0m\u001b[0;34m(\u001b[0m\u001b[0mself\u001b[0m\u001b[0;34m.\u001b[0m\u001b[0mscore_func\u001b[0m\u001b[0;34m)\u001b[0m\u001b[0;34m:\u001b[0m\u001b[0;34m\u001b[0m\u001b[0m\n",
      "\u001b[0;32m/anaconda3/lib/python3.6/site-packages/sklearn/utils/validation.py\u001b[0m in \u001b[0;36mcheck_X_y\u001b[0;34m(X, y, accept_sparse, dtype, order, copy, force_all_finite, ensure_2d, allow_nd, multi_output, ensure_min_samples, ensure_min_features, y_numeric, warn_on_dtype, estimator)\u001b[0m\n\u001b[1;32m    571\u001b[0m     X = check_array(X, accept_sparse, dtype, order, copy, force_all_finite,\n\u001b[1;32m    572\u001b[0m                     \u001b[0mensure_2d\u001b[0m\u001b[0;34m,\u001b[0m \u001b[0mallow_nd\u001b[0m\u001b[0;34m,\u001b[0m \u001b[0mensure_min_samples\u001b[0m\u001b[0;34m,\u001b[0m\u001b[0;34m\u001b[0m\u001b[0m\n\u001b[0;32m--> 573\u001b[0;31m                     ensure_min_features, warn_on_dtype, estimator)\n\u001b[0m\u001b[1;32m    574\u001b[0m     \u001b[0;32mif\u001b[0m \u001b[0mmulti_output\u001b[0m\u001b[0;34m:\u001b[0m\u001b[0;34m\u001b[0m\u001b[0m\n\u001b[1;32m    575\u001b[0m         y = check_array(y, 'csr', force_all_finite=True, ensure_2d=False,\n",
      "\u001b[0;32m/anaconda3/lib/python3.6/site-packages/sklearn/utils/validation.py\u001b[0m in \u001b[0;36mcheck_array\u001b[0;34m(array, accept_sparse, dtype, order, copy, force_all_finite, ensure_2d, allow_nd, ensure_min_samples, ensure_min_features, warn_on_dtype, estimator)\u001b[0m\n\u001b[1;32m    446\u001b[0m         \u001b[0;31m# make sure we actually converted to numeric:\u001b[0m\u001b[0;34m\u001b[0m\u001b[0;34m\u001b[0m\u001b[0m\n\u001b[1;32m    447\u001b[0m         \u001b[0;32mif\u001b[0m \u001b[0mdtype_numeric\u001b[0m \u001b[0;32mand\u001b[0m \u001b[0marray\u001b[0m\u001b[0;34m.\u001b[0m\u001b[0mdtype\u001b[0m\u001b[0;34m.\u001b[0m\u001b[0mkind\u001b[0m \u001b[0;34m==\u001b[0m \u001b[0;34m\"O\"\u001b[0m\u001b[0;34m:\u001b[0m\u001b[0;34m\u001b[0m\u001b[0m\n\u001b[0;32m--> 448\u001b[0;31m             \u001b[0marray\u001b[0m \u001b[0;34m=\u001b[0m \u001b[0marray\u001b[0m\u001b[0;34m.\u001b[0m\u001b[0mastype\u001b[0m\u001b[0;34m(\u001b[0m\u001b[0mnp\u001b[0m\u001b[0;34m.\u001b[0m\u001b[0mfloat64\u001b[0m\u001b[0;34m)\u001b[0m\u001b[0;34m\u001b[0m\u001b[0m\n\u001b[0m\u001b[1;32m    449\u001b[0m         \u001b[0;32mif\u001b[0m \u001b[0;32mnot\u001b[0m \u001b[0mallow_nd\u001b[0m \u001b[0;32mand\u001b[0m \u001b[0marray\u001b[0m\u001b[0;34m.\u001b[0m\u001b[0mndim\u001b[0m \u001b[0;34m>=\u001b[0m \u001b[0;36m3\u001b[0m\u001b[0;34m:\u001b[0m\u001b[0;34m\u001b[0m\u001b[0m\n\u001b[1;32m    450\u001b[0m             raise ValueError(\"Found array with dim %d. %s expected <= 2.\"\n",
      "\u001b[0;31mValueError\u001b[0m: could not convert string to float: 'C'"
     ]
    }
   ],
   "source": [
    "# Perform feature selection: f_classif\n",
    "X, y = (titanic[predictors], titanic[\"Survived\"])\n",
    "selector = SelectKBest(f_classif, k=4)\n",
    "selector.fit(X,y)\n",
    "\n",
    "X_new = selector.transform(X)\n",
    "X_new.shape\n",
    "\n",
    "print(\"Under f_classif selection, the best 4 features is:{}\".format(X.columns[selector.get_support(indices=True)].tolist()))\n"
   ]
  },
  {
   "cell_type": "code",
   "execution_count": 19,
   "metadata": {},
   "outputs": [
    {
     "name": "stdout",
     "output_type": "stream",
     "text": [
      "Under chi2 selection,the best 4 features is:['Sex', 'Fare', 'Title', 'NameLength']\n"
     ]
    }
   ],
   "source": [
    "# Perform feature selection: chi2\n",
    "\n",
    "selector = SelectKBest(chi2, k=4)\n",
    "selector.fit(X,y)\n",
    "\n",
    "X_new = selector.transform(X)\n",
    "X_new.shape\n",
    "\n",
    "print(\"Under chi2 selection,the best 4 features is:{}\".format(X.columns[selector.get_support(indices=True)].tolist()))\n"
   ]
  },
  {
   "cell_type": "code",
   "execution_count": 20,
   "metadata": {},
   "outputs": [
    {
     "name": "stderr",
     "output_type": "stream",
     "text": [
      "C:\\Users\\j\\Anaconda3\\lib\\site-packages\\ipykernel_launcher.py:2: RuntimeWarning: divide by zero encountered in log10\n",
      "  \n"
     ]
    }
   ],
   "source": [
    "# Get the raw p-values for each feature, and transform from p-values into scores\n",
    "scores = -np.log10(selector.pvalues_)"
   ]
  },
  {
   "cell_type": "code",
   "execution_count": 21,
   "metadata": {},
   "outputs": [
    {
     "data": {
      "image/png": "[encoded data removed]",
      "text/plain": [
       "<Figure size 720x288 with 1 Axes>"
      ]
     },
     "metadata": {},
     "output_type": "display_data"
    }
   ],
   "source": [
    "# Plot the scores.  We can also see the \"Pclass\", \"Sex\", \"Title\", and \"Fare\" are the best\n",
    "predictors = [\"Pclass\", \"Sex\", \"Age\", \"SibSp\", \"Parch\", \"Fare\", \"Embarked\", \"FamilySize\", \"Title\", \"NameLength\"] # renew the predictors\n",
    "plt.figure(figsize=(10, 4))\n",
    "plt.style.use('bmh')\n",
    "plt.bar(range(len(predictors)), scores)\n",
    "plt.xticks(range(len(predictors)), predictors, rotation=45)\n",
    "plt.show()"
   ]
  },
  {
   "cell_type": "code",
   "execution_count": 22,
   "metadata": {},
   "outputs": [
    {
     "name": "stdout",
     "output_type": "stream",
     "text": [
      "With 4 best features and under RandomForest Regression of 4 folds, the scores of the Cross Validation is: 0.8126165533326407\n"
     ]
    }
   ],
   "source": [
    "# Pick only the four best features.\n",
    "predictors = [\"Pclass\", \"Sex\", \"Fare\", \"Title\"]\n",
    "alg = RandomForestClassifier(random_state=1, n_estimators=49, min_samples_split=4, min_samples_leaf=2)\n",
    "# Compute the accuracy score\n",
    "scores = cross_val_score(alg, titanic[predictors], titanic[\"Survived\"], cv=4)\n",
    "\n",
    "print(\"With 4 best features and under RandomForest Regression of 4 folds, the scores of the Cross Validation is:\", scores.mean())"
   ]
  },
  {
   "cell_type": "code",
   "execution_count": null,
   "metadata": {},
   "outputs": [
    {
     "name": "stderr",
     "output_type": "stream",
     "text": [
      "  0%|                                                                                            | 0/8 [00:00<?, ?it/s]"
     ]
    }
   ],
   "source": [
    "# Trial Comparison of different combinations of the parameters\n",
    "from tqdm import tqdm\n",
    "score = []\n",
    "\n",
    "for i in tqdm(range(2,10)):\n",
    "    for j in range(1,5):\n",
    "        for g in range(2,7):\n",
    "            for e in range(1,50):\n",
    "                alg = RandomForestClassifier(random_state=1, n_estimators=e, min_samples_split=i, min_samples_leaf=j)\n",
    "                # Compute the accuracy score for all the cross validation folds.  (much simpler than what we did before!)\n",
    "                scores = cross_val_score(alg, titanic[predictors], titanic[\"Survived\"], cv=g)\n",
    "                # Take the mean of the scores (because we have one for each fold)\n",
    "                score.append([[e,i,j,g],scores.mean()])"
   ]
  },
  {
   "cell_type": "code",
   "execution_count": null,
   "metadata": {},
   "outputs": [],
   "source": [
    "# Sort the selection of parameters according to Accuracy score\n",
    "score.sort(key = itemgetter(1),reverse=0)\n",
    "score_top10 = score[-10:]\n",
    "sc=np.array(score_top10)[:,-1]\n",
    "para=np.array(score_top10)[:,0]\n",
    "para = [str(x) for x in para]\n",
    "\n",
    "# 2 ways of visulization plot\n",
    "plt.figure(figsize=(10, 4))  \n",
    "plt.xticks(rotation=30) \n",
    "plt.plot(para,sc)\n",
    "plt.title('Accuracy_score under different parameters') "
   ]
  },
  {
   "cell_type": "code",
   "execution_count": null,
   "metadata": {},
   "outputs": [],
   "source": [
    "sns.barplot(sc,para)\n",
    "plt.xlim([0.832,0.84])  \n",
    "plt.title('Accuracy_score under different parameters') "
   ]
  }
 ],
 "metadata": {
  "kernelspec": {
   "display_name": "Python 3",
   "language": "python",
   "name": "python3"
  },
  "language_info": {
   "codemirror_mode": {
    "name": "ipython",
    "version": 3
   },
   "file_extension": ".py",
   "mimetype": "text/x-python",
   "name": "python",
   "nbconvert_exporter": "python",
   "pygments_lexer": "ipython3",
   "version": "3.6.5"
  }
 },
 "nbformat": 4,
 "nbformat_minor": 2
}
